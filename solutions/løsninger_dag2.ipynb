{
 "cells": [
  {
   "cell_type": "markdown",
   "id": "great-hampton",
   "metadata": {},
   "source": [
    "# Dag 2: Øvelser\n",
    "## Oppgavesett 3\n",
    "\n",
    "#### 1) Les inn \"ytelser\" datasett som ligger på felles/veiledning/r/eksempler/. Lagre det til en vanlig datasett og ser på det."
   ]
  },
  {
   "cell_type": "code",
   "execution_count": null,
   "id": "confident-certification",
   "metadata": {},
   "outputs": [],
   "source": [
    "df <- spark.read.path(\"/felles/veiledning/r/eksempler/ytelser\")\n",
    "ytelser <- as.data.frame(df)\n",
    "head(ytelser)"
   ]
  },
  {
   "cell_type": "markdown",
   "id": "unexpected-salon",
   "metadata": {},
   "source": [
    "#### 2) Lage en ny variabel med kommune nummer (4 siffer). Sjekk at den er lagret på datasett\n",
    "Hint: kommunenummer er de første 4 siffene i variabel kommune_nr_navn"
   ]
  },
  {
   "cell_type": "code",
   "execution_count": null,
   "id": "approved-network",
   "metadata": {},
   "outputs": [],
   "source": [
    "library(tidyverse)\n",
    "ytelser <- ytelser %>%\n",
    "  mutate(kommune_nr = substr(kommune_nr_navn, 1, 4))\n",
    "glimpse(ytelser)"
   ]
  },
  {
   "cell_type": "markdown",
   "id": "gorgeous-vintage",
   "metadata": {},
   "source": [
    "#### 3) Lage en ny variabel med fylkesnummer. \n",
    "Hint: fylkenummer er de første 2 siffer i variabel fylke_nr_navn"
   ]
  },
  {
   "cell_type": "code",
   "execution_count": null,
   "id": "daily-feelings",
   "metadata": {},
   "outputs": [],
   "source": [
    "ytelser <- ytelser %>%\n",
    "  mutate(fylke_nr = substr(fylke_nr_navn, 1, 2))\n",
    "\n",
    "glimpse(ytelser)"
   ]
  },
  {
   "cell_type": "markdown",
   "id": "rural-anaheim",
   "metadata": {},
   "source": [
    "#### 4 ) Bruk filter for å se hvor mye barnetrygd ble utbetalt i 2015 for Kongsvinger \n",
    "Hint: Gammel kommunenummer var 0402\n",
    "Hint: Variabel utbetalt_mill_kr gis utbetalt verdi"
   ]
  },
  {
   "cell_type": "code",
   "execution_count": null,
   "id": "sticky-music",
   "metadata": {},
   "outputs": [],
   "source": [
    "ytelser %>%\n",
    "  filter(kommune_nr == \"0402\", \n",
    "         stoenadsomraade == \"Barnetrygd\",\n",
    "         aar == 2015\n",
    "         ) %>%\n",
    "  select(utbetalt_mill_kr)"
   ]
  },
  {
   "cell_type": "markdown",
   "id": "approximate-nevada",
   "metadata": {},
   "source": [
    "#### 5) Hva er summen av alle ytelsene for Kongsvinger?"
   ]
  },
  {
   "cell_type": "code",
   "execution_count": null,
   "id": "chubby-bumper",
   "metadata": {},
   "outputs": [],
   "source": [
    "ytelser %>% \n",
    "  filter(kommune_nr == \"0402\") %>%\n",
    "  summarise(belop_mrd = sum(utbetalt_mill_kr)) "
   ]
  },
  {
   "cell_type": "markdown",
   "id": "thirty-animation",
   "metadata": {},
   "source": [
    "#### 6) Hva er summen av alle ytelsene for Oslo per år?\n",
    "Hint: Kommmunenummer for Oslo er 0301\n"
   ]
  },
  {
   "cell_type": "code",
   "execution_count": null,
   "id": "cellular-chancellor",
   "metadata": {},
   "outputs": [],
   "source": [
    "ytelser %>% \n",
    "  filter(kommune_nr == \"0301\") %>%\n",
    "  group_by(aar) %>% \n",
    "  summarise(belop_mrd = sum(utbetalt_mill_kr))"
   ]
  },
  {
   "cell_type": "markdown",
   "id": "manufactured-accountability",
   "metadata": {},
   "source": [
    "#### 7) Hvor mange forsekjllige type ytelser ble utbetalt i Oslo i 2014? (Som er i datasett)\n",
    "Hint: bruk funksjon n() innen summarise() for å teller antall rader"
   ]
  },
  {
   "cell_type": "code",
   "execution_count": null,
   "id": "advanced-savage",
   "metadata": {},
   "outputs": [],
   "source": [
    "ytelser %>% \n",
    "  filter(kommune_nr == \"0301\", aar == \"2014\") %>%\n",
    "  summarise(antall = n())"
   ]
  },
  {
   "cell_type": "markdown",
   "id": "straight-andorra",
   "metadata": {},
   "source": [
    "## Oppgavesett 4\n",
    "### Kobling av data\n",
    "#### 1) Les inn filen befolkning.csv som ligger i data-mappe\n",
    "Dette innholder befolking per kommune etter aldersgrupper"
   ]
  },
  {
   "cell_type": "code",
   "execution_count": null,
   "id": "level-publication",
   "metadata": {},
   "outputs": [],
   "source": [
    "befolkning <- spark.read.path(\"/felles/veiledning/r/eksempler/befolkning\")\n",
    "befolkning <- as.data.frame(befolkning)\n",
    "head(befolkning)"
   ]
  },
  {
   "cell_type": "markdown",
   "id": "lesbian-chamber",
   "metadata": {},
   "source": [
    "#### 2) Filter datasett så at det kun inneholder antall som er 65+ år per kommune\n",
    "Bruk select for å kun beholde variabler Region, value og Tid\n",
    "Hint: aldergruppe for de 65+ år heter \"F65+\""
   ]
  },
  {
   "cell_type": "code",
   "execution_count": null,
   "id": "broadband-visitor",
   "metadata": {},
   "outputs": [],
   "source": [
    "befolkning <- befolkning %>%\n",
    "  filter(Alder == \"F65+\") %>%\n",
    "  select(Region, value, Tid)"
   ]
  },
  {
   "cell_type": "markdown",
   "id": "dense-lease",
   "metadata": {},
   "source": [
    "#### 3) Endre navn til variabel \"value\" til \"befolk65\""
   ]
  },
  {
   "cell_type": "code",
   "execution_count": null,
   "id": "upset-obligation",
   "metadata": {},
   "outputs": [],
   "source": [
    "befolkning <- befolkning %>%\n",
    "  rename(befolk65 = value)"
   ]
  },
  {
   "cell_type": "markdown",
   "id": "pending-dictionary",
   "metadata": {},
   "source": [
    "#### 4) Koble ytelser og befolkning datasett sammen ved kommunenummer og år som nøkkelvariabel\n",
    "Behold kun alle rader i ytelserdatasett"
   ]
  },
  {
   "cell_type": "code",
   "execution_count": null,
   "id": "unavailable-carrier",
   "metadata": {},
   "outputs": [],
   "source": [
    "ytelser <- left_join(ytelser, befolkning, by = c(\"kommune_nr\" = \"Region\", \"aar\" = \"Tid\"))\n",
    "summary(ytelser)"
   ]
  },
  {
   "cell_type": "markdown",
   "id": "raised-lover",
   "metadata": {},
   "source": [
    "### Figurer\n",
    "#### 5) Lage en linjediagram av total ytelser per år.\n",
    "Hint: linjedigarm er samme som punktdiagram men med geom_smooth()\n",
    "Hint: Gruppere først, deretter summere, og deretter plott"
   ]
  },
  {
   "cell_type": "code",
   "execution_count": null,
   "id": "packed-basketball",
   "metadata": {},
   "outputs": [],
   "source": [
    "ytelser %>% \n",
    "  group_by(aar) %>% \n",
    "  summarise(ytelser = sum(utbetalt_mill_kr)) %>% \n",
    "  ggplot(aes(x= aar, y = ytelser)) + \n",
    "    geom_line()"
   ]
  },
  {
   "cell_type": "markdown",
   "id": "finite-competition",
   "metadata": {},
   "source": [
    "#### 6) Lage samme plott av ytelser men i milliarder (istedenfor millioner)\n",
    "Bruk `+ ylim(0,500)` for å spesifisere y-akser skal være mellom 0 og 500."
   ]
  },
  {
   "cell_type": "code",
   "execution_count": null,
   "id": "korean-lender",
   "metadata": {},
   "outputs": [],
   "source": [
    "ytelser %>% \n",
    "  group_by(aar) %>% \n",
    "  summarise(ytelser = sum(utbetalt_mill_kr)/1000) %>% \n",
    "  ggplot(aes(x= aar, y = ytelser)) + \n",
    "  geom_line() +\n",
    "  ylim(0, 500)"
   ]
  },
  {
   "cell_type": "markdown",
   "id": "intense-vault",
   "metadata": {},
   "source": [
    "#### 7) Lage samme plott av ytelser men legg til akse-navn som er mer meningsfult\n",
    "Hint: bruk scale_x_coninuous og tilsvarende for y\n",
    "Hint: skriv ?scale_x_continuous for hjelpfil"
   ]
  },
  {
   "cell_type": "code",
   "execution_count": null,
   "id": "seventh-breach",
   "metadata": {},
   "outputs": [],
   "source": [
    "ytelser %>% \n",
    "  group_by(aar) %>% \n",
    "  summarise(ytelser = sum(utbetalt_mill_kr)/1000) %>% \n",
    "  ggplot(aes(x = aar, y = ytelser)) + \n",
    "  geom_line() +\n",
    "  xlab(\"år\") +\n",
    "  ylab(\"utbetalt ytelser (milliarder)\") + \n",
    "  ylim(0, 500)"
   ]
  },
  {
   "cell_type": "markdown",
   "id": "confidential-tenant",
   "metadata": {},
   "source": [
    "#### 8) Lage en ny linjediagram for ytelser per år farget etter stønadsområde.Lage det for Kongvinger \n",
    "Hint: siden datasett innholde utbetalt verdier per stønadsområde, trenger du ikke å oppsummere. Bruk `aes(color = )` innen `geom_line()` til farger."
   ]
  },
  {
   "cell_type": "code",
   "execution_count": null,
   "id": "native-cleaners",
   "metadata": {},
   "outputs": [],
   "source": [
    "ytelser %>% \n",
    "  filter(kommune_nr == \"0402\")%>%\n",
    "  group_by(aar) %>% \n",
    "  ggplot(aes(x = aar, y = utbetalt_mill_kr)) + \n",
    "  geom_line(aes(color = stoenadsomraade))"
   ]
  },
  {
   "cell_type": "markdown",
   "id": "higher-roads",
   "metadata": {},
   "source": [
    "#### 9) lage en punktdiagram av antall 65+ og utbetalt for stønadsområde \"Alderspensjon\" for 2015. Legg på en regresjonlinje"
   ]
  },
  {
   "cell_type": "code",
   "execution_count": null,
   "id": "preliminary-miller",
   "metadata": {},
   "outputs": [],
   "source": [
    "ytelser %>%\n",
    "  filter(aar == 2015, stoenadsomraade == \"Alderspensjon\") %>%\n",
    "  ggplot(aes(x = befolk65_2015, y = utbetalt_mill_kr)) + \n",
    "  geom_point() + \n",
    "  geom_smooth(method = \"lm\")"
   ]
  }
 ],
 "metadata": {
  "kernelspec": {
   "display_name": "SparkR (local)",
   "language": "R",
   "name": "ir"
  },
  "language_info": {
   "codemirror_mode": "r",
   "file_extension": ".r",
   "mimetype": "text/x-r-source",
   "name": "R",
   "pygments_lexer": "r",
   "version": "4.0.3"
  }
 },
 "nbformat": 4,
 "nbformat_minor": 5
}
