{
 "cells": [
  {
   "cell_type": "markdown",
   "id": "nasty-hanging",
   "metadata": {},
   "source": [
    "# Løsninger dag 1\n",
    "## Oppgave 1 - kom i gang\n",
    "#### a) Hva er produkt av 4499 og 35?"
   ]
  },
  {
   "cell_type": "code",
   "execution_count": null,
   "id": "pregnant-happening",
   "metadata": {},
   "outputs": [],
   "source": [
    "4499 * 35"
   ]
  },
  {
   "cell_type": "markdown",
   "id": "intended-electricity",
   "metadata": {},
   "source": [
    "#### b) Lage et objekt med navnet ditt og skriv det ut"
   ]
  },
  {
   "cell_type": "code",
   "execution_count": null,
   "id": "close-bahrain",
   "metadata": {},
   "outputs": [],
   "source": [
    "susie <- \"Susie Jentoft\"\n",
    "susie"
   ]
  },
  {
   "cell_type": "markdown",
   "id": "broadband-grain",
   "metadata": {},
   "source": [
    "#### c) Slå opp hjelpfilen for funksjonen nchar"
   ]
  },
  {
   "cell_type": "code",
   "execution_count": null,
   "id": "portuguese-blade",
   "metadata": {},
   "outputs": [],
   "source": [
    "?nchar"
   ]
  },
  {
   "cell_type": "markdown",
   "id": "labeled-treaty",
   "metadata": {},
   "source": [
    "#### d) Bruk funksjonen nchar for å se hvor mange bokstaver navnet ditt innholder"
   ]
  },
  {
   "cell_type": "code",
   "execution_count": null,
   "id": "configured-distributor",
   "metadata": {},
   "outputs": [],
   "source": [
    "nchar(susie)"
   ]
  },
  {
   "cell_type": "markdown",
   "id": "confirmed-hearing",
   "metadata": {},
   "source": [
    "#### e) Lage en vektor som inneholder 10 tall. Kalle listen antall_ansatte"
   ]
  },
  {
   "cell_type": "code",
   "execution_count": null,
   "id": "early-teaching",
   "metadata": {},
   "outputs": [],
   "source": [
    "antall_ansatte <- c(4, 20, 33, 2739, 23, 7, 32, 12, 17, 21)"
   ]
  },
  {
   "cell_type": "markdown",
   "id": "fluid-window",
   "metadata": {},
   "source": [
    "#### f) Sjekk lengde av antall_ansatte med funksjonen length()"
   ]
  },
  {
   "cell_type": "code",
   "execution_count": null,
   "id": "sexual-international",
   "metadata": {},
   "outputs": [],
   "source": [
    "length(antall_ansatte)"
   ]
  },
  {
   "cell_type": "markdown",
   "id": "roman-folks",
   "metadata": {},
   "source": [
    "#### g) Skrive en test/logisk setning for å se hvilken i listen antall_ansatte er mindre enn 5"
   ]
  },
  {
   "cell_type": "code",
   "execution_count": null,
   "id": "conscious-dutch",
   "metadata": {},
   "outputs": [],
   "source": [
    "antall_ansatte < 5"
   ]
  },
  {
   "cell_type": "markdown",
   "id": "cultural-digit",
   "metadata": {},
   "source": [
    "#### h) Skrive en test for å se om nummer 9 er i listen antall_ansatte"
   ]
  },
  {
   "cell_type": "code",
   "execution_count": null,
   "id": "twenty-concert",
   "metadata": {},
   "outputs": [],
   "source": [
    "9 %in% antall_ansatte"
   ]
  },
  {
   "cell_type": "markdown",
   "id": "meaning-student",
   "metadata": {},
   "source": [
    "## Oppgave 2 - datasett\n",
    "#### a) Hent inn biblioteket tidyverse"
   ]
  },
  {
   "cell_type": "code",
   "execution_count": null,
   "id": "educated-technology",
   "metadata": {},
   "outputs": [],
   "source": [
    "library(tidyverse)"
   ]
  },
  {
   "cell_type": "markdown",
   "id": "lovely-produce",
   "metadata": {},
   "source": [
    "#### b) Les inn datasett ytelser som ligger på felles/veiledning/r/eksempler/. Lage det som en vanlig R dataframe."
   ]
  },
  {
   "cell_type": "code",
   "execution_count": null,
   "id": "fifth-tissue",
   "metadata": {},
   "outputs": [],
   "source": [
    "df <- spark.read.path(\"/felles/veiledning/r/eksempler/ytelser\")\n",
    "df <- as.data.frame(df)"
   ]
  },
  {
   "cell_type": "markdown",
   "id": "massive-return",
   "metadata": {},
   "source": [
    "#### c) Ser på datasett. Hvor mange variabler har det? Hva slags variabel er kommune_nr_navn?"
   ]
  },
  {
   "cell_type": "code",
   "execution_count": null,
   "id": "inclusive-nitrogen",
   "metadata": {},
   "outputs": [],
   "source": [
    "glimpse(df)"
   ]
  },
  {
   "cell_type": "markdown",
   "id": "amber-mapping",
   "metadata": {},
   "source": [
    "#### d) Hva er gjennomsnittsverdi av variabel utbetalt_mill_kr?"
   ]
  },
  {
   "cell_type": "code",
   "execution_count": null,
   "id": "enclosed-leisure",
   "metadata": {},
   "outputs": [],
   "source": [
    "summary(df)"
   ]
  },
  {
   "cell_type": "markdown",
   "id": "creative-training",
   "metadata": {},
   "source": [
    "#### e) Lagre ytelser datasett som en spark datasett og lagre det med en unique navn under felles/veiledning/r/eksempler"
   ]
  },
  {
   "cell_type": "code",
   "execution_count": null,
   "id": "little-prague",
   "metadata": {},
   "outputs": [],
   "source": [
    "ytelser_spark <- as.DataFrame(ytelser)\n",
    "spark.write.path(ytelser_spark, \"/felles/veiledning/r/eksempler/befolkning_susie\", valuation = \"INTERNAL\", state = \"INPUT\")"
   ]
  },
  {
   "cell_type": "code",
   "execution_count": null,
   "id": "political-religious",
   "metadata": {},
   "outputs": [],
   "source": []
  }
 ],
 "metadata": {
  "kernelspec": {
   "display_name": "SparkR (local)",
   "language": "R",
   "name": "ir"
  },
  "language_info": {
   "codemirror_mode": "r",
   "file_extension": ".r",
   "mimetype": "text/x-r-source",
   "name": "R",
   "pygments_lexer": "r",
   "version": "4.0.3"
  }
 },
 "nbformat": 4,
 "nbformat_minor": 5
}
