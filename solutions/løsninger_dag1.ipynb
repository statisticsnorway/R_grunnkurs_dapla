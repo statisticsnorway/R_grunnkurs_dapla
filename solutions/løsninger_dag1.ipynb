{
 "cells": [
  {
   "cell_type": "markdown",
   "id": "nasty-citizen",
   "metadata": {},
   "source": [
    "# Løsninger dag 1\n",
    "## Oppgave 1 - kom i gang\n",
    "#### a) Hva er produkt av 4499 og 35?"
   ]
  },
  {
   "cell_type": "code",
   "execution_count": null,
   "id": "twelve-device",
   "metadata": {},
   "outputs": [],
   "source": [
    "4499 * 35"
   ]
  },
  {
   "cell_type": "markdown",
   "id": "surprised-script",
   "metadata": {},
   "source": [
    "#### b) Lage et objekt med navnet ditt og skriv det ut"
   ]
  },
  {
   "cell_type": "code",
   "execution_count": null,
   "id": "compliant-violence",
   "metadata": {},
   "outputs": [],
   "source": [
    "susie <- \"Susie Jentoft\"\n",
    "susie"
   ]
  },
  {
   "cell_type": "markdown",
   "id": "dietary-technique",
   "metadata": {},
   "source": [
    "#### c) Slå opp hjelpfilen for funksjonen nchar"
   ]
  },
  {
   "cell_type": "code",
   "execution_count": null,
   "id": "celtic-syndrome",
   "metadata": {},
   "outputs": [],
   "source": [
    "?nchar"
   ]
  },
  {
   "cell_type": "markdown",
   "id": "utility-unemployment",
   "metadata": {},
   "source": [
    "#### d) Bruk funksjonen nchar for å se hvor mange bokstaver navnet ditt innholder"
   ]
  },
  {
   "cell_type": "code",
   "execution_count": null,
   "id": "combined-western",
   "metadata": {},
   "outputs": [],
   "source": [
    "nchar(susie)"
   ]
  },
  {
   "cell_type": "markdown",
   "id": "noticed-pipeline",
   "metadata": {},
   "source": [
    "#### e) Lage en vektor som inneholder 10 tall. Kalle listen antall_ansatte"
   ]
  },
  {
   "cell_type": "code",
   "execution_count": null,
   "id": "available-preference",
   "metadata": {},
   "outputs": [],
   "source": [
    "antall_ansatte <- c(4, 20, 33, 2739, 23, 7, 32, 12, 17, 21)"
   ]
  },
  {
   "cell_type": "markdown",
   "id": "persistent-documentation",
   "metadata": {},
   "source": [
    "#### f) Sjekk lengde av antall_ansatte med funksjonen length()"
   ]
  },
  {
   "cell_type": "code",
   "execution_count": null,
   "id": "complete-tablet",
   "metadata": {},
   "outputs": [],
   "source": [
    "length(antall_ansatte)"
   ]
  },
  {
   "cell_type": "markdown",
   "id": "monthly-durham",
   "metadata": {},
   "source": [
    "#### g) Skrive en test/logisk setning for å se hvilken i listen antall_ansatte er mindre enn 5"
   ]
  },
  {
   "cell_type": "code",
   "execution_count": null,
   "id": "shared-henry",
   "metadata": {},
   "outputs": [],
   "source": [
    "antall_ansatte < 5"
   ]
  },
  {
   "cell_type": "markdown",
   "id": "maritime-ecology",
   "metadata": {},
   "source": [
    "#### h) Skrive en test for å se om nummer 9 er i listen antall_ansatte"
   ]
  },
  {
   "cell_type": "code",
   "execution_count": null,
   "id": "pressing-perception",
   "metadata": {},
   "outputs": [],
   "source": [
    "9 %in% antall_ansatte"
   ]
  },
  {
   "cell_type": "markdown",
   "id": "organic-amsterdam",
   "metadata": {},
   "source": [
    "## Oppgave 2 - datasett\n",
    "#### a) Hent inn biblioteket tidyverse"
   ]
  },
  {
   "cell_type": "code",
   "execution_count": null,
   "id": "behind-netherlands",
   "metadata": {},
   "outputs": [],
   "source": [
    "library(tidyverse)"
   ]
  },
  {
   "cell_type": "markdown",
   "id": "forbidden-addiction",
   "metadata": {},
   "source": [
    "#### b) Les inn datasett ytelser som ligger på felles/veiledning/r/eksempler/. Lage det som en vanlig R dataframe."
   ]
  },
  {
   "cell_type": "code",
   "execution_count": null,
   "id": "sized-workplace",
   "metadata": {},
   "outputs": [],
   "source": [
    "df <- spark.read.path(\"/felles/veiledning/r/eksempler/ytelser\")\n",
    "df <- as.data.frame(df)"
   ]
  },
  {
   "cell_type": "markdown",
   "id": "addressed-poland",
   "metadata": {},
   "source": [
    "#### c) Ser på datasett. Hvor mange variabler har det? Hva slags variabel er kommune_nr_navn?"
   ]
  },
  {
   "cell_type": "code",
   "execution_count": null,
   "id": "ceramic-victory",
   "metadata": {},
   "outputs": [],
   "source": [
    "glimpse(df)"
   ]
  },
  {
   "cell_type": "markdown",
   "id": "intensive-butter",
   "metadata": {},
   "source": [
    "#### d) Hva er gjennomsnittsverdi av variabel utbetalt_mill_kr?"
   ]
  },
  {
   "cell_type": "code",
   "execution_count": null,
   "id": "circular-cheat",
   "metadata": {},
   "outputs": [],
   "source": [
    "summary(df)"
   ]
  },
  {
   "cell_type": "markdown",
   "id": "hindu-description",
   "metadata": {},
   "source": [
    "#### e) Les inn datasett som heter befolkning.csv i data mappe"
   ]
  },
  {
   "cell_type": "code",
   "execution_count": null,
   "id": "understood-coast",
   "metadata": {},
   "outputs": [],
   "source": [
    "befolkning <- read_csv2(\"../data/befolkning.csv\")\n",
    "head(befolkning)"
   ]
  },
  {
   "cell_type": "markdown",
   "id": "trying-magazine",
   "metadata": {},
   "source": [
    "#### f) Lagre befolkning datasett som en spark datasett og lagre det med en unique navn under felles/veiledning/r/eksempler"
   ]
  },
  {
   "cell_type": "code",
   "execution_count": null,
   "id": "documented-progress",
   "metadata": {},
   "outputs": [],
   "source": [
    "befolkning_spark <- as.DataFrame(befolkning)\n",
    "spark.write.path(befolkning_spark, \"/felles/veiledning/r/eksempler/befolkning_susie\", valuation = \"INTERNAL\", state = \"INPUT\")"
   ]
  },
  {
   "cell_type": "code",
   "execution_count": null,
   "id": "available-hampshire",
   "metadata": {},
   "outputs": [],
   "source": []
  }
 ],
 "metadata": {
  "kernelspec": {
   "display_name": "SparkR (local)",
   "language": "R",
   "name": "ir"
  },
  "language_info": {
   "codemirror_mode": "r",
   "file_extension": ".r",
   "mimetype": "text/x-r-source",
   "name": "R",
   "pygments_lexer": "r",
   "version": "4.0.3"
  }
 },
 "nbformat": 4,
 "nbformat_minor": 5
}
