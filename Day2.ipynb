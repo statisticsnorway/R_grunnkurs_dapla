{
 "cells": [
  {
   "cell_type": "markdown",
   "id": "nasty-legislature",
   "metadata": {},
   "source": [
    "# R introduksjonskurs - dag 2\n",
    "## DEL 1\n",
    "Første leser vi in datasett som vi brukte i dag en og lagre det som en vanlig R dataframe. \n"
   ]
  },
  {
   "cell_type": "raw",
   "id": "three-essex",
   "metadata": {},
   "source": [
    "df <- spark.read.path(\"/felles/veiledning/r/eksempler/ansatte\")\n",
    "df <- as.data.frame(df)\n",
    "head(df)"
   ]
  },
  {
   "cell_type": "markdown",
   "id": "innovative-personal",
   "metadata": {},
   "source": [
    "### Lage nye variabler\n",
    "Her bruker vi tilleggspakke tidyverse for å lage nye variabler. Først må vi kalle inn tidyverse pakken. Here kommer det mange varsling siden flere funksjoner har samme navn som de på SparkR pakke. "
   ]
  },
  {
   "cell_type": "code",
   "execution_count": null,
   "id": "adverse-reunion",
   "metadata": {},
   "outputs": [],
   "source": [
    "library(tidyverse)"
   ]
  },
  {
   "cell_type": "markdown",
   "id": "respiratory-mother",
   "metadata": {},
   "source": [
    "Vi lager nye variabler ved bruk av `mutate()` funksjonen. "
   ]
  },
  {
   "cell_type": "code",
   "execution_count": null,
   "id": "worldwide-alpha",
   "metadata": {},
   "outputs": [],
   "source": [
    "df %>% \n",
    "    mutate(log_salary = log(salary))"
   ]
  },
  {
   "cell_type": "markdown",
   "id": "encouraging-communications",
   "metadata": {},
   "source": [
    "Dataset blir kun lagret i minne om det allokeres"
   ]
  },
  {
   "cell_type": "code",
   "execution_count": null,
   "id": "collectible-healthcare",
   "metadata": {},
   "outputs": [],
   "source": [
    "glimpse(df)"
   ]
  },
  {
   "cell_type": "code",
   "execution_count": null,
   "id": "welcome-march",
   "metadata": {},
   "outputs": [],
   "source": [
    "df <- df %>%\n",
    "        mutate(log_salary = log(salary))\n",
    "glimpse(df)"
   ]
  },
  {
   "cell_type": "markdown",
   "id": "mighty-isolation",
   "metadata": {},
   "source": [
    "Vi kan også lagre en variable med en ifelse setning"
   ]
  },
  {
   "cell_type": "code",
   "execution_count": null,
   "id": "purple-answer",
   "metadata": {},
   "outputs": [],
   "source": [
    "df <- df %>%\n",
    "  mutate(salary_kat = ifelse(salary > 25000, \"high\", \"low\"))\n",
    "df"
   ]
  },
  {
   "cell_type": "markdown",
   "id": "rural-idaho",
   "metadata": {},
   "source": [
    "Vi kan bruke `lubridate` for å ta ut år fra en dato."
   ]
  },
  {
   "cell_type": "code",
   "execution_count": null,
   "id": "matched-preservation",
   "metadata": {},
   "outputs": [],
   "source": [
    "library(lubridate)\n",
    "df <- df %>%\n",
    "    mutate(aar = year(startdate))\n",
    "df"
   ]
  },
  {
   "cell_type": "markdown",
   "id": "governmental-pressing",
   "metadata": {},
   "source": [
    "Vi kan bruke `as.character()` eller `as.numeric` for å endre variabeltype"
   ]
  },
  {
   "cell_type": "code",
   "execution_count": null,
   "id": "hairy-distributor",
   "metadata": {},
   "outputs": [],
   "source": [
    "df <- df %>%\n",
    "    mutate(aar = as.character(aar))\n",
    "df"
   ]
  },
  {
   "cell_type": "markdown",
   "id": "communist-probability",
   "metadata": {},
   "source": [
    "## Velge noen rad\n",
    "For å velge noen rad bruker vi `filter()` funksjonen. Innenfor parentes skriver vi en logisk setning. Flere setninger kan kombinere med komma."
   ]
  },
  {
   "cell_type": "code",
   "execution_count": null,
   "id": "intellectual-vulnerability",
   "metadata": {},
   "outputs": [],
   "source": [
    "df %>%\n",
    "  filter(employee == \"John Doe\")"
   ]
  },
  {
   "cell_type": "markdown",
   "id": "compatible-genetics",
   "metadata": {},
   "source": [
    "Vi kan filtrere data etter en dato interval ved å setteopp et interval første og bruker `%within%`."
   ]
  },
  {
   "cell_type": "code",
   "execution_count": null,
   "id": "lovely-malta",
   "metadata": {},
   "outputs": [],
   "source": [
    "int <- interval(ymd(\"2008-01-01\"), ymd(\"2020-01-01\"))\n",
    "df %>%\n",
    " filter(startdate %within% int)"
   ]
  },
  {
   "cell_type": "markdown",
   "id": "broke-zoning",
   "metadata": {},
   "source": [
    "## Velge noen variabler\n",
    "For å kun ser på noen variabler bruker vi `select()` funksjonen"
   ]
  },
  {
   "cell_type": "code",
   "execution_count": null,
   "id": "modified-radio",
   "metadata": {},
   "outputs": [],
   "source": [
    "df %>%\n",
    "    select(employee, aar)"
   ]
  },
  {
   "cell_type": "markdown",
   "id": "eight-restaurant",
   "metadata": {},
   "source": [
    "Flere funksjoner kan kombineres ved pipelines (`%>%`)."
   ]
  },
  {
   "cell_type": "code",
   "execution_count": null,
   "id": "material-colorado",
   "metadata": {},
   "outputs": [],
   "source": [
    "df %>%\n",
    "    filter(employee == \"John Doe\") %>%\n",
    "    select(employee, salary, aar)"
   ]
  },
  {
   "cell_type": "markdown",
   "id": "liberal-recall",
   "metadata": {},
   "source": [
    "## Oppsummering/aggregering\n",
    "Vi bruker `summarise()` funksjonen til å aggregere tall og lage statistikk"
   ]
  },
  {
   "cell_type": "code",
   "execution_count": null,
   "id": "consolidated-election",
   "metadata": {},
   "outputs": [],
   "source": [
    "df %>%\n",
    "    summarise(average_salary = mean(salary))"
   ]
  },
  {
   "cell_type": "markdown",
   "id": "accepted-election",
   "metadata": {},
   "source": [
    "Det er mulig å kombinere `summarise` med andre funksjoner også."
   ]
  },
  {
   "cell_type": "code",
   "execution_count": null,
   "id": "abandoned-charger",
   "metadata": {},
   "outputs": [],
   "source": [
    "df %>%\n",
    "    filter(salary_kat == \"low\") %>%\n",
    "    summarise(average_salary_low = mean(salary),\n",
    "             antall = n())"
   ]
  },
  {
   "cell_type": "markdown",
   "id": "loaded-bonus",
   "metadata": {},
   "source": [
    "## Gruppering\n",
    "Ofte ønsker vi oppsummering innenfor grupper. Dette kan vi gjøre med `group_by()`\n"
   ]
  },
  {
   "cell_type": "code",
   "execution_count": null,
   "id": "present-feature",
   "metadata": {},
   "outputs": [],
   "source": [
    "df %>%\n",
    "    group_by(salary_kat) %>%\n",
    "    summarise(average_salary = mean(salary),\n",
    "             antall = n())"
   ]
  },
  {
   "cell_type": "markdown",
   "id": "compact-lecture",
   "metadata": {},
   "source": [
    "## Rename variable"
   ]
  },
  {
   "cell_type": "code",
   "execution_count": null,
   "id": "ruled-davis",
   "metadata": {},
   "outputs": [],
   "source": [
    "df %>%\n",
    "    rename(dato = aar)"
   ]
  },
  {
   "cell_type": "markdown",
   "id": "medical-methodology",
   "metadata": {},
   "source": [
    "## DEL 2\n",
    "## Kobling av datasett - justere dette"
   ]
  },
  {
   "cell_type": "code",
   "execution_count": null,
   "id": "controlled-repair",
   "metadata": {},
   "outputs": [],
   "source": [
    "library(haven)\n",
    "trygd <- read_sas(\"./data/trygd.sas7bdat\")\n",
    "\n",
    "\n",
    "# Endrenavn i trygd datasett\n",
    "names(trygd)\n",
    "trygd <- trygd %>%\n",
    "  rename(region = Region,\n",
    "         kjonn = Kjonn,\n",
    "         tid = Tid\n",
    "  )\n",
    "glimpse(trygd)\n",
    "\n",
    "# koble\n",
    "kommunedata <- left_join(kommunedata, trygd, by = c(\"region\", \"tid\", \"kjonn\")) \n",
    "glimpse(kommunedata)"
   ]
  },
  {
   "cell_type": "markdown",
   "id": "differential-marshall",
   "metadata": {},
   "source": [
    "## Søylediagram"
   ]
  },
  {
   "cell_type": "code",
   "execution_count": null,
   "id": "interior-training",
   "metadata": {},
   "outputs": [],
   "source": [
    "kommunedata %>% ggplot(aes(kjonn)) + \n",
    "  geom_bar()"
   ]
  },
  {
   "cell_type": "markdown",
   "id": "central-redhead",
   "metadata": {},
   "source": [
    "Her trenger vi å spesifisere `stat=\"identify\"` så at det brukes verdiene istedenfor å telle"
   ]
  },
  {
   "cell_type": "code",
   "execution_count": null,
   "id": "comic-plant",
   "metadata": {},
   "outputs": [],
   "source": [
    "kommunedata %>%\n",
    "  ggplot(aes(x = kjonn, y = UforetygdPers)) +\n",
    "  geom_bar(stat = \"identity\")"
   ]
  },
  {
   "cell_type": "markdown",
   "id": "hidden-vertical",
   "metadata": {},
   "source": [
    "Vi kan endre format på akser ved `scale_y_continuous()`"
   ]
  },
  {
   "cell_type": "code",
   "execution_count": null,
   "id": "miniature-softball",
   "metadata": {},
   "outputs": [],
   "source": [
    "kommunedata %>%\n",
    "  ggplot(aes(x = kjonn, y = UforetygdPers)) +\n",
    "  geom_bar(stat = \"identity\") +\n",
    "  scale_y_continuous(labels = scales::comma)"
   ]
  },
  {
   "cell_type": "markdown",
   "id": "premier-dragon",
   "metadata": {},
   "source": [
    "Også viser forskjellige år med forskjellige farge ved bruk av `fill=` i `aes()`."
   ]
  },
  {
   "cell_type": "code",
   "execution_count": null,
   "id": "located-comfort",
   "metadata": {},
   "outputs": [],
   "source": [
    "kommunedata %>%\n",
    "  ggplot(aes(x = kjonn, y = UforetygdPers, fill = tid)) +\n",
    "  geom_bar(stat = \"identity\") +\n",
    "  scale_y_continuous(labels = scales::comma) "
   ]
  },
  {
   "cell_type": "code",
   "execution_count": null,
   "id": "elder-roommate",
   "metadata": {},
   "outputs": [],
   "source": [
    "For å viser dem ved siden av hverandre bruker vi `position = \"dodge\"`."
   ]
  },
  {
   "cell_type": "code",
   "execution_count": null,
   "id": "living-assault",
   "metadata": {},
   "outputs": [],
   "source": [
    "kommunedata %>%\n",
    "  filter(region == \"0402\") %>% \n",
    "  ggplot(aes(x = kjonn, y = UforetygdPers, fill = tid)) +\n",
    "  geom_bar(stat = \"identity\", position = \"dodge\") + \n",
    "  scale_y_continuous(labels = scales::comma) "
   ]
  },
  {
   "cell_type": "code",
   "execution_count": null,
   "id": "hearing-factory",
   "metadata": {},
   "outputs": [],
   "source": [
    "\n",
    "\n",
    "\n",
    "\n",
    "\n",
    "\n",
    "#### Punktdiagram ####\n",
    "kommunedata %>%\n",
    "  ggplot(aes(x = folkemengde, y = bruttoinnt)) + \n",
    "  geom_point() + \n",
    "  scale_y_continuous(labels = scales::comma) +\n",
    "  scale_x_continuous(labels = scales::comma) \n",
    "\n",
    "# Filter for kun kommune-nivå data\n",
    "kommunedata %>%\n",
    "  filter(region_type == \"kommune\") %>%\n",
    "  ggplot(aes(x = folkemengde, y = bruttoinnt)) + \n",
    "  geom_point() + \n",
    "  scale_y_continuous(labels = scales::comma) +\n",
    "  scale_x_continuous(labels = scales::comma) \n",
    "\n",
    "# Legg til regresjonslinje med geom_smotth\n",
    "kommunedata %>%\n",
    "  filter(region_type == \"kommune\") %>%\n",
    "  ggplot(aes(x = folkemengde, y = bruttoinnt)) + \n",
    "  geom_point() + \n",
    "  scale_y_continuous(labels = scales::comma) +\n",
    "  scale_x_continuous(labels = scales::comma) +\n",
    "  geom_smooth(method = \"lm\")\n",
    "\n",
    "# Farge etter kjønn\n",
    "kommunedata %>%\n",
    "  filter(region_type == \"kommune\") %>% \n",
    "  ggplot(aes(x = folkemengde, y = bruttoinnt)) + \n",
    "  geom_point(aes(color = kjonn)) +\n",
    "  scale_y_continuous(labels = scales::comma) +\n",
    "  scale_x_continuous(labels = scales::comma)\n",
    "\n",
    "# Gir akser et nytt navn\n",
    "kommunedata %>%\n",
    "  filter(region_type == \"kommune\") %>% \n",
    "  ggplot(aes(x = folkemengde, y = bruttoinnt)) + \n",
    "  geom_point(aes(color = kjonn)) +\n",
    "  scale_y_continuous(labels = scales::comma, name = \"Brutto inntekt\") +\n",
    "  scale_x_continuous(labels = scales::comma, name = \"Antall personer\")\n",
    "\n",
    "\n",
    "\n",
    "#### Lagre figur ####\n",
    "png(file = \"folkemengde_inntekt.png\")\n",
    "\n",
    "kommunedata %>%\n",
    "  filter(region_type == \"kommune\") %>% \n",
    "  ggplot(aes(x = folkemengde, y = bruttoinnt)) + \n",
    "  geom_point(aes(color = kjonn)) +\n",
    "  scale_y_continuous(labels = scales::comma) +\n",
    "  scale_x_continuous(labels = scales::comma)\n",
    "\n",
    "dev.off()\n",
    "\n",
    "\n",
    "\n",
    "\n",
    "#### Eksportere data/en tabell til excel ####\n",
    "library(openxlsx)\n",
    "write.xlsx(kommunedata, file = \"kommune_data.xlsx\")"
   ]
  },
  {
   "cell_type": "code",
   "execution_count": null,
   "id": "altered-auckland",
   "metadata": {},
   "outputs": [],
   "source": []
  },
  {
   "cell_type": "code",
   "execution_count": null,
   "id": "horizontal-sigma",
   "metadata": {},
   "outputs": [],
   "source": []
  },
  {
   "cell_type": "code",
   "execution_count": null,
   "id": "threatened-uzbekistan",
   "metadata": {},
   "outputs": [],
   "source": []
  },
  {
   "cell_type": "markdown",
   "id": "military-anthony",
   "metadata": {},
   "source": [
    "https://spark.rstudio.com/"
   ]
  }
 ],
 "metadata": {
  "kernelspec": {
   "display_name": "SparkR (local)",
   "language": "R",
   "name": "ir"
  },
  "language_info": {
   "codemirror_mode": "r",
   "file_extension": ".r",
   "mimetype": "text/x-r-source",
   "name": "R",
   "pygments_lexer": "r",
   "version": "4.0.3"
  }
 },
 "nbformat": 4,
 "nbformat_minor": 5
}
