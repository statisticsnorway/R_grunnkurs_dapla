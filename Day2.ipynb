{
 "cells": [
  {
   "cell_type": "markdown",
   "id": "finnish-washington",
   "metadata": {},
   "source": [
    "# R introduksjonskurs - dag 2\n",
    "## DEL 1\n",
    "Første leser vi in datasett som vi brukte i dag en og lagre det som en vanlig R dataframe. \n"
   ]
  },
  {
   "cell_type": "raw",
   "id": "light-complexity",
   "metadata": {},
   "source": [
    "df <- spark.read.path(\"/felles/veiledning/r/eksempler/ansatte\")\n",
    "df <- as.data.frame(df)\n",
    "head(df)"
   ]
  },
  {
   "cell_type": "markdown",
   "id": "revolutionary-andorra",
   "metadata": {},
   "source": [
    "### Lage nye variabler\n",
    "Her bruker vi tilleggspakke tidyverse for å lage nye variabler. Først må vi kalle inn tidyverse pakken. Here kommer det mange varsling siden flere funksjoner har samme navn som de på SparkR pakke. "
   ]
  },
  {
   "cell_type": "code",
   "execution_count": null,
   "id": "medium-bride",
   "metadata": {},
   "outputs": [],
   "source": [
    "library(tidyverse)"
   ]
  },
  {
   "cell_type": "markdown",
   "id": "experienced-triumph",
   "metadata": {},
   "source": [
    "Vi lager nye variabler ved bruk av `mutate()` funksjonen. "
   ]
  },
  {
   "cell_type": "code",
   "execution_count": null,
   "id": "modified-hunger",
   "metadata": {},
   "outputs": [],
   "source": [
    "df %>% \n",
    "    mutate(log_salary = log(salary))"
   ]
  },
  {
   "cell_type": "markdown",
   "id": "shaped-yorkshire",
   "metadata": {},
   "source": [
    "Dataset blir kun lagret i minne om det allokeres"
   ]
  },
  {
   "cell_type": "code",
   "execution_count": null,
   "id": "respective-martin",
   "metadata": {},
   "outputs": [],
   "source": [
    "glimpse(df)"
   ]
  },
  {
   "cell_type": "code",
   "execution_count": null,
   "id": "passive-source",
   "metadata": {},
   "outputs": [],
   "source": [
    "df <- df %>%\n",
    "        mutate(log_salary = log(salary))\n",
    "glimpse(df)"
   ]
  },
  {
   "cell_type": "markdown",
   "id": "sexual-modeling",
   "metadata": {},
   "source": [
    "Vi kan også lagre en variable med en ifelse setning"
   ]
  },
  {
   "cell_type": "code",
   "execution_count": null,
   "id": "charming-disco",
   "metadata": {},
   "outputs": [],
   "source": [
    "df <- df %>%\n",
    "  mutate(salary_kat = ifelse(salary > 25000, \"high\", \"low\"))\n",
    "df"
   ]
  },
  {
   "cell_type": "markdown",
   "id": "naked-bloom",
   "metadata": {},
   "source": [
    "Vi kan bruke `lubridate` for å ta ut år fra en dato."
   ]
  },
  {
   "cell_type": "code",
   "execution_count": null,
   "id": "after-valve",
   "metadata": {},
   "outputs": [],
   "source": [
    "library(lubridate)\n",
    "df <- df %>%\n",
    "    mutate(aar = year(startdate))\n",
    "df"
   ]
  },
  {
   "cell_type": "markdown",
   "id": "incorporated-packet",
   "metadata": {},
   "source": [
    "Vi kan bruke `as.character()` eller `as.numeric` for å endre variabeltype"
   ]
  },
  {
   "cell_type": "code",
   "execution_count": null,
   "id": "continuing-prairie",
   "metadata": {},
   "outputs": [],
   "source": [
    "df <- df %>%\n",
    "    mutate(aar = as.character(aar))\n",
    "df"
   ]
  },
  {
   "cell_type": "markdown",
   "id": "collect-crack",
   "metadata": {},
   "source": [
    "## Velge noen rad\n",
    "For å velge noen rad bruker vi `filter()` funksjonen. Innenfor parentes skriver vi en logisk setning. Flere setninger kan kombinere med komma."
   ]
  },
  {
   "cell_type": "code",
   "execution_count": null,
   "id": "unknown-testimony",
   "metadata": {},
   "outputs": [],
   "source": [
    "df %>%\n",
    "  filter(employee == \"John Doe\")"
   ]
  },
  {
   "cell_type": "markdown",
   "id": "shaped-consideration",
   "metadata": {},
   "source": [
    "Vi kan filtrere data etter en dato interval ved å setteopp et interval første og bruker `%within%`."
   ]
  },
  {
   "cell_type": "code",
   "execution_count": null,
   "id": "german-signal",
   "metadata": {},
   "outputs": [],
   "source": [
    "int <- interval(ymd(\"2008-01-01\"), ymd(\"2020-01-01\"))\n",
    "df %>%\n",
    " filter(startdate %within% int)"
   ]
  },
  {
   "cell_type": "markdown",
   "id": "fitted-custom",
   "metadata": {},
   "source": [
    "## Velge noen variabler\n",
    "For å kun ser på noen variabler bruker vi `select()` funksjonen"
   ]
  },
  {
   "cell_type": "code",
   "execution_count": null,
   "id": "dutch-morning",
   "metadata": {},
   "outputs": [],
   "source": [
    "df %>%\n",
    "    select(employee, aar)"
   ]
  },
  {
   "cell_type": "markdown",
   "id": "partial-strength",
   "metadata": {},
   "source": [
    "Flere funksjoner kan kombineres ved pipelines (`%>%`)."
   ]
  },
  {
   "cell_type": "code",
   "execution_count": null,
   "id": "precise-local",
   "metadata": {},
   "outputs": [],
   "source": [
    "df %>%\n",
    "    filter(employee == \"John Doe\") %>%\n",
    "    select(employee, salary, aar)"
   ]
  },
  {
   "cell_type": "markdown",
   "id": "hollow-enemy",
   "metadata": {},
   "source": [
    "## Oppsummering/aggregering\n",
    "Vi bruker `summarise()` funksjonen til å aggregere tall og lage statistikk"
   ]
  },
  {
   "cell_type": "code",
   "execution_count": null,
   "id": "surprising-cursor",
   "metadata": {},
   "outputs": [],
   "source": [
    "df %>%\n",
    "    summarise(average_salary = mean(salary))"
   ]
  },
  {
   "cell_type": "markdown",
   "id": "premier-classics",
   "metadata": {},
   "source": [
    "Det er mulig å kombinere `summarise` med andre funksjoner også."
   ]
  },
  {
   "cell_type": "code",
   "execution_count": null,
   "id": "premium-primary",
   "metadata": {},
   "outputs": [],
   "source": [
    "df %>%\n",
    "    filter(salary_kat == \"low\") %>%\n",
    "    summarise(average_salary_low = mean(salary),\n",
    "             antall = n())"
   ]
  },
  {
   "cell_type": "markdown",
   "id": "adult-image",
   "metadata": {},
   "source": [
    "## Gruppering\n",
    "Ofte ønsker vi oppsummering innenfor grupper. Dette kan vi gjøre med `group_by()`\n"
   ]
  },
  {
   "cell_type": "code",
   "execution_count": null,
   "id": "vertical-stroke",
   "metadata": {},
   "outputs": [],
   "source": [
    "df %>%\n",
    "    group_by(salary_kat) %>%\n",
    "    summarise(average_salary = mean(salary),\n",
    "             antall = n())"
   ]
  },
  {
   "cell_type": "markdown",
   "id": "blond-appearance",
   "metadata": {},
   "source": [
    "## Rename variable"
   ]
  },
  {
   "cell_type": "code",
   "execution_count": null,
   "id": "ignored-forge",
   "metadata": {},
   "outputs": [],
   "source": [
    "df %>%\n",
    "    rename(dato = aar)"
   ]
  },
  {
   "cell_type": "markdown",
   "id": "oriented-lecture",
   "metadata": {},
   "source": [
    "## DEL 2\n",
    "## Kobling av datasett - justere dette"
   ]
  },
  {
   "cell_type": "code",
   "execution_count": null,
   "id": "divine-isaac",
   "metadata": {},
   "outputs": [],
   "source": [
    "kommunedata <- spark.read.path(\"/felles/veiledning/r/eksempler/kommunedata\")\n",
    "kommunedata <- as.data.frame(kommunedata)\n",
    "head(kommunedata)"
   ]
  },
  {
   "cell_type": "markdown",
   "id": "indie-magnet",
   "metadata": {},
   "source": [
    "Neste lese jeg inn tryd dataset og lage det til et data frame.\n"
   ]
  },
  {
   "cell_type": "code",
   "execution_count": null,
   "id": "oriented-classic",
   "metadata": {},
   "outputs": [],
   "source": [
    "trygd <- spark.read.path(\"/felles/veiledning/r/eksempler/trygd\")\n",
    "trygd <- as.data.frame(trygd)\n",
    "head(trygd)"
   ]
  },
  {
   "cell_type": "markdown",
   "id": "neither-communications",
   "metadata": {},
   "source": [
    "Noen navn er forsekjllige i de to datsaettene. Dette kan føre til problemer med kobling. For å løse dette kan vi endre navn på de før kobling. Noen varaibler er også forsekjlige formatter. vi kan endre format ved `as.numeric()` funksjonen."
   ]
  },
  {
   "cell_type": "code",
   "execution_count": null,
   "id": "cultural-voltage",
   "metadata": {},
   "outputs": [],
   "source": [
    "trygd <- trygd %>%\n",
    "    rename(region = Region,\n",
    "         kjonn = Kjonn,\n",
    "         tid = Tid)\n",
    "\n",
    "kommunedata <- kommunedata %>%\n",
    "    mutate(tid = as.character(tid),\n",
    "          kjonn = as.character(kjonn))"
   ]
  },
  {
   "cell_type": "markdown",
   "id": "compliant-disclosure",
   "metadata": {},
   "source": [
    "Og så koble vi datasettene sammen med en `left_join()`."
   ]
  },
  {
   "cell_type": "code",
   "execution_count": null,
   "id": "mathematical-strategy",
   "metadata": {},
   "outputs": [],
   "source": [
    "kommunedata <- left_join(kommunedata, trygd, by = c(\"region\", \"tid\", \"kjonn\")) \n",
    "head(kommunedata)"
   ]
  },
  {
   "cell_type": "markdown",
   "id": "given-tiffany",
   "metadata": {},
   "source": [
    "## Søylediagram"
   ]
  },
  {
   "cell_type": "code",
   "execution_count": null,
   "id": "universal-packet",
   "metadata": {},
   "outputs": [],
   "source": [
    "kommunedata %>% ggplot(aes(kjonn)) + \n",
    "  geom_bar()"
   ]
  },
  {
   "cell_type": "markdown",
   "id": "elegant-integration",
   "metadata": {},
   "source": [
    "Her trenger vi å spesifisere `stat=\"identify\"` så at det brukes verdiene istedenfor å telle"
   ]
  },
  {
   "cell_type": "code",
   "execution_count": null,
   "id": "prescription-cursor",
   "metadata": {},
   "outputs": [],
   "source": [
    "kommunedata %>%\n",
    "  ggplot(aes(x = kjonn, y = UforetygdPers)) +\n",
    "  geom_bar(stat = \"identity\")"
   ]
  },
  {
   "cell_type": "markdown",
   "id": "modified-australian",
   "metadata": {},
   "source": [
    "Vi kan endre format på akser ved `scale_y_continuous()`"
   ]
  },
  {
   "cell_type": "code",
   "execution_count": null,
   "id": "biblical-torture",
   "metadata": {},
   "outputs": [],
   "source": [
    "kommunedata %>%\n",
    "  ggplot(aes(x = kjonn, y = UforetygdPers)) +\n",
    "  geom_bar(stat = \"identity\") +\n",
    "  scale_y_continuous(labels = scales::comma)"
   ]
  },
  {
   "cell_type": "markdown",
   "id": "recent-polyester",
   "metadata": {},
   "source": [
    "Også viser forskjellige år med forskjellige farge ved bruk av `fill=` i `aes()`."
   ]
  },
  {
   "cell_type": "code",
   "execution_count": null,
   "id": "democratic-drink",
   "metadata": {},
   "outputs": [],
   "source": [
    "kommunedata %>%\n",
    "  ggplot(aes(x = kjonn, y = UforetygdPers, fill = tid)) +\n",
    "  geom_bar(stat = \"identity\") +\n",
    "  scale_y_continuous(labels = scales::comma) "
   ]
  },
  {
   "cell_type": "markdown",
   "id": "specified-stockholm",
   "metadata": {},
   "source": [
    "For å viser dem ved siden av hverandre bruker vi `position = \"dodge\"`."
   ]
  },
  {
   "cell_type": "code",
   "execution_count": null,
   "id": "competitive-fleece",
   "metadata": {},
   "outputs": [],
   "source": [
    "kommunedata %>%\n",
    "  filter(region == \"0402\") %>% \n",
    "  ggplot(aes(x = kjonn, y = UforetygdPers, fill = tid)) +\n",
    "  geom_bar(stat = \"identity\", position = \"dodge\") + \n",
    "  scale_y_continuous(labels = scales::comma) "
   ]
  },
  {
   "cell_type": "code",
   "execution_count": null,
   "id": "intended-biology",
   "metadata": {},
   "outputs": [],
   "source": []
  },
  {
   "cell_type": "code",
   "execution_count": null,
   "id": "afraid-duncan",
   "metadata": {},
   "outputs": [],
   "source": []
  },
  {
   "cell_type": "code",
   "execution_count": null,
   "id": "progressive-morocco",
   "metadata": {},
   "outputs": [],
   "source": []
  },
  {
   "cell_type": "code",
   "execution_count": null,
   "id": "understood-operator",
   "metadata": {},
   "outputs": [],
   "source": [
    "\n",
    "\n",
    "\n",
    "\n",
    "\n",
    "\n",
    "#### Punktdiagram ####\n",
    "kommunedata %>%\n",
    "  ggplot(aes(x = folkemengde, y = bruttoinnt)) + \n",
    "  geom_point() + \n",
    "  scale_y_continuous(labels = scales::comma) +\n",
    "  scale_x_continuous(labels = scales::comma) \n",
    "\n",
    "# Filter for kun kommune-nivå data\n",
    "kommunedata %>%\n",
    "  filter(region_type == \"kommune\") %>%\n",
    "  ggplot(aes(x = folkemengde, y = bruttoinnt)) + \n",
    "  geom_point() + \n",
    "  scale_y_continuous(labels = scales::comma) +\n",
    "  scale_x_continuous(labels = scales::comma) \n",
    "\n",
    "# Legg til regresjonslinje med geom_smotth\n",
    "kommunedata %>%\n",
    "  filter(region_type == \"kommune\") %>%\n",
    "  ggplot(aes(x = folkemengde, y = bruttoinnt)) + \n",
    "  geom_point() + \n",
    "  scale_y_continuous(labels = scales::comma) +\n",
    "  scale_x_continuous(labels = scales::comma) +\n",
    "  geom_smooth(method = \"lm\")\n",
    "\n",
    "# Farge etter kjønn\n",
    "kommunedata %>%\n",
    "  filter(region_type == \"kommune\") %>% \n",
    "  ggplot(aes(x = folkemengde, y = bruttoinnt)) + \n",
    "  geom_point(aes(color = kjonn)) +\n",
    "  scale_y_continuous(labels = scales::comma) +\n",
    "  scale_x_continuous(labels = scales::comma)\n",
    "\n",
    "# Gir akser et nytt navn\n",
    "kommunedata %>%\n",
    "  filter(region_type == \"kommune\") %>% \n",
    "  ggplot(aes(x = folkemengde, y = bruttoinnt)) + \n",
    "  geom_point(aes(color = kjonn)) +\n",
    "  scale_y_continuous(labels = scales::comma, name = \"Brutto inntekt\") +\n",
    "  scale_x_continuous(labels = scales::comma, name = \"Antall personer\")\n",
    "\n",
    "\n",
    "\n",
    "#### Lagre figur ####\n",
    "png(file = \"folkemengde_inntekt.png\")\n",
    "\n",
    "kommunedata %>%\n",
    "  filter(region_type == \"kommune\") %>% \n",
    "  ggplot(aes(x = folkemengde, y = bruttoinnt)) + \n",
    "  geom_point(aes(color = kjonn)) +\n",
    "  scale_y_continuous(labels = scales::comma) +\n",
    "  scale_x_continuous(labels = scales::comma)\n",
    "\n",
    "dev.off()\n",
    "\n",
    "\n",
    "\n",
    "\n",
    "#### Eksportere data/en tabell til excel ####\n",
    "library(openxlsx)\n",
    "write.xlsx(kommunedata, file = \"kommune_data.xlsx\")"
   ]
  },
  {
   "cell_type": "code",
   "execution_count": null,
   "id": "modern-devon",
   "metadata": {},
   "outputs": [],
   "source": []
  },
  {
   "cell_type": "code",
   "execution_count": null,
   "id": "sexual-floor",
   "metadata": {},
   "outputs": [],
   "source": []
  },
  {
   "cell_type": "code",
   "execution_count": null,
   "id": "honest-british",
   "metadata": {},
   "outputs": [],
   "source": []
  },
  {
   "cell_type": "markdown",
   "id": "allied-holiday",
   "metadata": {},
   "source": [
    "https://spark.rstudio.com/"
   ]
  }
 ],
 "metadata": {
  "kernelspec": {
   "display_name": "SparkR (local)",
   "language": "R",
   "name": "ir"
  },
  "language_info": {
   "codemirror_mode": "r",
   "file_extension": ".r",
   "mimetype": "text/x-r-source",
   "name": "R",
   "pygments_lexer": "r",
   "version": "4.0.3"
  }
 },
 "nbformat": 4,
 "nbformat_minor": 5
}
