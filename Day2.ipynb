{
 "cells": [
  {
   "cell_type": "markdown",
   "id": "surgical-roman",
   "metadata": {},
   "source": [
    "# R introduksjonskurs - dag 2\n",
    "## DEL 1\n",
    "Første leser vi in datasett som vi brukte i dag en og lagre det som en vanlig R dataframe. \n"
   ]
  },
  {
   "cell_type": "raw",
   "id": "employed-binary",
   "metadata": {},
   "source": [
    "df <- spark.read.path(\"/felles/veiledning/r/eksempler/ansatte\")\n",
    "df <- as.data.frame(df)\n",
    "head(df)"
   ]
  },
  {
   "cell_type": "markdown",
   "id": "changed-wheel",
   "metadata": {},
   "source": [
    "### Lage nye variabler\n",
    "Her bruker vi tilleggspakke tidyverse for å lage nye variabler. Først må vi kalle inn tidyverse pakken. Here kommer det mange varsling siden flere funksjoner har samme navn som de på SparkR pakke. "
   ]
  },
  {
   "cell_type": "code",
   "execution_count": null,
   "id": "identified-timothy",
   "metadata": {},
   "outputs": [],
   "source": [
    "library(tidyverse)"
   ]
  },
  {
   "cell_type": "markdown",
   "id": "educated-queen",
   "metadata": {},
   "source": [
    "Vi lager nye variabler ved bruk av `mutate()` funksjonen. "
   ]
  },
  {
   "cell_type": "code",
   "execution_count": null,
   "id": "illegal-minneapolis",
   "metadata": {},
   "outputs": [],
   "source": [
    "df %>% \n",
    "    mutate(log_salary = log(salary))"
   ]
  },
  {
   "cell_type": "markdown",
   "id": "minus-designer",
   "metadata": {},
   "source": [
    "Dataset blir kun lagret i minne om det allokeres"
   ]
  },
  {
   "cell_type": "code",
   "execution_count": null,
   "id": "modified-captain",
   "metadata": {},
   "outputs": [],
   "source": [
    "glimpse(df)"
   ]
  },
  {
   "cell_type": "code",
   "execution_count": null,
   "id": "utility-inquiry",
   "metadata": {},
   "outputs": [],
   "source": [
    "df <- df %>%\n",
    "        mutate(log_salary = log(salary))\n",
    "glimpse(df)"
   ]
  },
  {
   "cell_type": "markdown",
   "id": "signal-application",
   "metadata": {},
   "source": [
    "Vi kan også lagre en variable med en ifelse setning"
   ]
  },
  {
   "cell_type": "code",
   "execution_count": null,
   "id": "medieval-christopher",
   "metadata": {},
   "outputs": [],
   "source": [
    "df <- df %>%\n",
    "  mutate(salary_kat = ifelse(salary > 25000, \"high\", \"low\"))\n",
    "df"
   ]
  },
  {
   "cell_type": "markdown",
   "id": "cubic-class",
   "metadata": {},
   "source": [
    "Vi kan bruke `lubridate` for å ta ut år fra en dato."
   ]
  },
  {
   "cell_type": "code",
   "execution_count": null,
   "id": "focal-shape",
   "metadata": {},
   "outputs": [],
   "source": [
    "library(lubridate)\n",
    "df <- df %>%\n",
    "    mutate(aar = year(startdate))\n",
    "df"
   ]
  },
  {
   "cell_type": "markdown",
   "id": "alone-florence",
   "metadata": {},
   "source": [
    "Vi kan bruke `as.character()` eller `as.numeric` for å endre variabeltype"
   ]
  },
  {
   "cell_type": "code",
   "execution_count": null,
   "id": "conventional-estate",
   "metadata": {},
   "outputs": [],
   "source": [
    "df <- df %>%\n",
    "    mutate(aar = as.character(aar))\n",
    "df"
   ]
  },
  {
   "cell_type": "markdown",
   "id": "nutritional-benefit",
   "metadata": {},
   "source": [
    "## Velge noen rad\n",
    "For å velge noen rad bruker vi `filter()` funksjonen. Innenfor parentes skriver vi en logisk setning. Flere setninger kan kombinere med komma."
   ]
  },
  {
   "cell_type": "code",
   "execution_count": null,
   "id": "surprising-moses",
   "metadata": {},
   "outputs": [],
   "source": [
    "df %>%\n",
    "  filter(employee == \"John Doe\")"
   ]
  },
  {
   "cell_type": "markdown",
   "id": "julian-roller",
   "metadata": {},
   "source": [
    "Vi kan filtrere data etter en dato interval ved å setteopp et interval første og bruker `%within%`."
   ]
  },
  {
   "cell_type": "code",
   "execution_count": null,
   "id": "civil-hughes",
   "metadata": {},
   "outputs": [],
   "source": [
    "int <- interval(ymd(\"2008-01-01\"), ymd(\"2020-01-01\"))\n",
    "df %>%\n",
    " filter(startdate %within% int)"
   ]
  },
  {
   "cell_type": "markdown",
   "id": "automotive-soccer",
   "metadata": {},
   "source": [
    "## Velge noen variabler\n",
    "For å kun ser på noen variabler bruker vi `select()` funksjonen"
   ]
  },
  {
   "cell_type": "code",
   "execution_count": null,
   "id": "radical-processing",
   "metadata": {},
   "outputs": [],
   "source": [
    "df %>%\n",
    "    select(employee, aar)"
   ]
  },
  {
   "cell_type": "markdown",
   "id": "upper-manhattan",
   "metadata": {},
   "source": [
    "Flere funksjoner kan kombineres ved pipelines (`%>%`)."
   ]
  },
  {
   "cell_type": "code",
   "execution_count": null,
   "id": "metric-national",
   "metadata": {},
   "outputs": [],
   "source": [
    "df %>%\n",
    "    filter(employee == \"John Doe\") %>%\n",
    "    select(employee, salary, aar)"
   ]
  },
  {
   "cell_type": "markdown",
   "id": "parental-gates",
   "metadata": {},
   "source": [
    "## Oppsummering/aggregering\n",
    "Vi bruker `summarise()` funksjonen til å aggregere tall og lage statistikk"
   ]
  },
  {
   "cell_type": "code",
   "execution_count": null,
   "id": "appointed-coalition",
   "metadata": {},
   "outputs": [],
   "source": [
    "df %>%\n",
    "    summarise(average_salary = mean(salary))"
   ]
  },
  {
   "cell_type": "markdown",
   "id": "future-julian",
   "metadata": {},
   "source": [
    "Det er mulig å kombinere `summarise` med andre funksjoner også."
   ]
  },
  {
   "cell_type": "code",
   "execution_count": null,
   "id": "gentle-gather",
   "metadata": {},
   "outputs": [],
   "source": [
    "df %>%\n",
    "    filter(salary_kat == \"low\") %>%\n",
    "    summarise(average_salary_low = mean(salary),\n",
    "             antall = n())"
   ]
  },
  {
   "cell_type": "markdown",
   "id": "governmental-glucose",
   "metadata": {},
   "source": [
    "## Gruppering\n",
    "Ofte ønsker vi oppsummering innenfor grupper. Dette kan vi gjøre med `group_by()`\n"
   ]
  },
  {
   "cell_type": "code",
   "execution_count": null,
   "id": "tight-clinton",
   "metadata": {},
   "outputs": [],
   "source": [
    "df %>%\n",
    "    group_by(salary_kat) %>%\n",
    "    summarise(average_salary = mean(salary),\n",
    "             antall = n())"
   ]
  },
  {
   "cell_type": "markdown",
   "id": "collected-wheel",
   "metadata": {},
   "source": [
    "## Rename variable"
   ]
  },
  {
   "cell_type": "code",
   "execution_count": null,
   "id": "minimal-taste",
   "metadata": {},
   "outputs": [],
   "source": [
    "df %>%\n",
    "    rename(dato = aar)"
   ]
  },
  {
   "cell_type": "markdown",
   "id": "revolutionary-shepherd",
   "metadata": {},
   "source": [
    "## DEL 2\n",
    "## Kobling av datasett"
   ]
  },
  {
   "cell_type": "code",
   "execution_count": null,
   "id": "hybrid-challenge",
   "metadata": {},
   "outputs": [],
   "source": [
    "kommunedata <- spark.read.path(\"/felles/veiledning/r/eksempler/kommunedata\")\n",
    "kommunedata <- as.data.frame(kommunedata)\n",
    "head(kommunedata)"
   ]
  },
  {
   "cell_type": "markdown",
   "id": "micro-label",
   "metadata": {},
   "source": [
    "Neste lese jeg inn tryd dataset og lage det til et data frame.\n"
   ]
  },
  {
   "cell_type": "code",
   "execution_count": null,
   "id": "rental-midnight",
   "metadata": {},
   "outputs": [],
   "source": [
    "trygd <- spark.read.path(\"/felles/veiledning/r/eksempler/trygd\")\n",
    "trygd <- as.data.frame(trygd)\n",
    "head(trygd)"
   ]
  },
  {
   "cell_type": "markdown",
   "id": "meaningful-junction",
   "metadata": {},
   "source": [
    "Noen navn er forsekjllige i de to datsaettene. Dette kan føre til problemer med kobling. For å løse dette kan vi endre navn på de før kobling. Noen varaibler er også forsekjlige formatter. vi kan endre format ved `as.numeric()` funksjonen."
   ]
  },
  {
   "cell_type": "code",
   "execution_count": null,
   "id": "ideal-track",
   "metadata": {},
   "outputs": [],
   "source": [
    "trygd <- trygd %>%\n",
    "    rename(region = Region,\n",
    "         kjonn = Kjonn,\n",
    "         tid = Tid)\n",
    "\n",
    "kommunedata <- kommunedata %>%\n",
    "    mutate(tid = as.character(tid),\n",
    "          kjonn = as.character(kjonn))"
   ]
  },
  {
   "cell_type": "markdown",
   "id": "healthy-parker",
   "metadata": {},
   "source": [
    "Og så koble vi datasettene sammen med en `left_join()`."
   ]
  },
  {
   "cell_type": "code",
   "execution_count": null,
   "id": "opened-combining",
   "metadata": {},
   "outputs": [],
   "source": [
    "kommunedata <- left_join(kommunedata, trygd, by = c(\"region\", \"tid\", \"kjonn\")) \n",
    "head(kommunedata)"
   ]
  },
  {
   "cell_type": "markdown",
   "id": "moved-cooking",
   "metadata": {},
   "source": [
    "## Søylediagram"
   ]
  },
  {
   "cell_type": "code",
   "execution_count": null,
   "id": "confidential-garbage",
   "metadata": {},
   "outputs": [],
   "source": [
    "kommunedata %>% ggplot(aes(kjonn)) + \n",
    "  geom_bar()"
   ]
  },
  {
   "cell_type": "markdown",
   "id": "instrumental-somerset",
   "metadata": {},
   "source": [
    "Her trenger vi å spesifisere `stat=\"identify\"` så at det brukes verdiene istedenfor å telle"
   ]
  },
  {
   "cell_type": "code",
   "execution_count": null,
   "id": "jewish-thesaurus",
   "metadata": {},
   "outputs": [],
   "source": [
    "kommunedata %>%\n",
    "  ggplot(aes(x = kjonn, y = UforetygdPers)) +\n",
    "  geom_bar(stat = \"identity\")"
   ]
  },
  {
   "cell_type": "markdown",
   "id": "english-helen",
   "metadata": {},
   "source": [
    "Vi kan endre format på akser ved `scale_y_continuous()`"
   ]
  },
  {
   "cell_type": "code",
   "execution_count": null,
   "id": "hourly-closure",
   "metadata": {},
   "outputs": [],
   "source": [
    "kommunedata %>%\n",
    "  ggplot(aes(x = kjonn, y = UforetygdPers)) +\n",
    "  geom_bar(stat = \"identity\") +\n",
    "  scale_y_continuous(labels = scales::comma)"
   ]
  },
  {
   "cell_type": "markdown",
   "id": "irish-deficit",
   "metadata": {},
   "source": [
    "Også viser forskjellige år med forskjellige farge ved bruk av `fill=` i `aes()`."
   ]
  },
  {
   "cell_type": "code",
   "execution_count": null,
   "id": "informative-search",
   "metadata": {},
   "outputs": [],
   "source": [
    "kommunedata %>%\n",
    "  ggplot(aes(x = kjonn, y = UforetygdPers, fill = tid)) +\n",
    "  geom_bar(stat = \"identity\") +\n",
    "  scale_y_continuous(labels = scales::comma) "
   ]
  },
  {
   "cell_type": "markdown",
   "id": "italic-romance",
   "metadata": {},
   "source": [
    "For å viser dem ved siden av hverandre bruker vi `position = \"dodge\"`."
   ]
  },
  {
   "cell_type": "code",
   "execution_count": null,
   "id": "successful-discharge",
   "metadata": {},
   "outputs": [],
   "source": [
    "kommunedata %>%\n",
    "  filter(region == \"0402\") %>% \n",
    "  ggplot(aes(x = kjonn, y = UforetygdPers, fill = tid)) +\n",
    "  geom_bar(stat = \"identity\", position = \"dodge\") + \n",
    "  scale_y_continuous(labels = scales::comma) "
   ]
  },
  {
   "cell_type": "markdown",
   "id": "enormous-edmonton",
   "metadata": {},
   "source": [
    "## Punktdiagram\n",
    "For å lage en punkdiagram bruker vi `geom_point()`"
   ]
  },
  {
   "cell_type": "code",
   "execution_count": null,
   "id": "recorded-white",
   "metadata": {},
   "outputs": [],
   "source": [
    "kommunedata %>%\n",
    "  ggplot(aes(x = folkemengde, y = bruttoinnt)) + \n",
    "  geom_point() + \n",
    "  scale_y_continuous(labels = scales::comma) +\n",
    "  scale_x_continuous(labels = scales::comma) "
   ]
  },
  {
   "cell_type": "markdown",
   "id": "minimal-volume",
   "metadata": {},
   "source": [
    "Filter for kun kommune-nivå data"
   ]
  },
  {
   "cell_type": "code",
   "execution_count": null,
   "id": "collectible-mercy",
   "metadata": {},
   "outputs": [],
   "source": [
    "kommunedata %>%\n",
    "  filter(nchar(region) == 4) %>%\n",
    "  ggplot(aes(x = folkemengde, y = bruttoinnt)) + \n",
    "  geom_point()"
   ]
  },
  {
   "cell_type": "markdown",
   "id": "fiscal-auction",
   "metadata": {},
   "source": [
    "Legg til regresjonslinje med geom_smooth"
   ]
  },
  {
   "cell_type": "code",
   "execution_count": null,
   "id": "equivalent-mistress",
   "metadata": {},
   "outputs": [],
   "source": [
    "kommunedata %>%\n",
    "  filter(nchar(region) == 4) %>%\n",
    "  ggplot(aes(x = folkemengde, y = bruttoinnt)) + \n",
    "  geom_point() + \n",
    "  scale_y_continuous(labels = scales::comma) +\n",
    "  scale_x_continuous(labels = scales::comma) +\n",
    "  geom_smooth(method = \"lm\")"
   ]
  },
  {
   "cell_type": "markdown",
   "id": "fewer-myanmar",
   "metadata": {},
   "source": [
    "Farge etter kjønn"
   ]
  },
  {
   "cell_type": "code",
   "execution_count": null,
   "id": "unlike-removal",
   "metadata": {},
   "outputs": [],
   "source": [
    "kommunedata %>%\n",
    "  filter(nchar(region) == 4) %>% \n",
    "  ggplot(aes(x = folkemengde, y = bruttoinnt)) + \n",
    "  geom_point(aes(color = kjonn))"
   ]
  },
  {
   "cell_type": "markdown",
   "id": "sensitive-massage",
   "metadata": {},
   "source": [
    "Gir akser et nytt navn"
   ]
  },
  {
   "cell_type": "code",
   "execution_count": null,
   "id": "defined-questionnaire",
   "metadata": {},
   "outputs": [],
   "source": [
    "kommunedata %>%\n",
    "  filter(nchar(region) == 4) %>% \n",
    "  ggplot(aes(x = folkemengde, y = bruttoinnt)) + \n",
    "  geom_point(aes(color = kjonn)) +\n",
    "  ylab(\"Brutto inntekt\") +\n",
    "  xlab(\"Antall personer\")"
   ]
  },
  {
   "cell_type": "markdown",
   "id": "another-sellers",
   "metadata": {},
   "source": [
    "## Lagre figur\n",
    "For å lagre figurer som seperat fil spesifiserer vi filtype og navn første, deretter figuren lages og slå vi av dev (device) for å stoppe lagring. "
   ]
  },
  {
   "cell_type": "code",
   "execution_count": null,
   "id": "guilty-cycling",
   "metadata": {},
   "outputs": [],
   "source": [
    "png(file = \"folkemengde_inntekt.png\")\n",
    "\n",
    "kommunedata %>%\n",
    "  filter(nchar(region) == 4) %>% \n",
    "  ggplot(aes(x = folkemengde, y = bruttoinnt)) + \n",
    "  geom_point(aes(color = kjonn)) +\n",
    "  scale_y_continuous(labels = scales::comma) +\n",
    "  scale_x_continuous(labels = scales::comma)\n",
    "\n",
    "dev.off()"
   ]
  },
  {
   "cell_type": "code",
   "execution_count": null,
   "id": "boring-science",
   "metadata": {},
   "outputs": [],
   "source": []
  },
  {
   "cell_type": "code",
   "execution_count": null,
   "id": "stuck-seminar",
   "metadata": {},
   "outputs": [],
   "source": []
  },
  {
   "cell_type": "code",
   "execution_count": null,
   "id": "surprising-marble",
   "metadata": {},
   "outputs": [],
   "source": []
  },
  {
   "cell_type": "markdown",
   "id": "plastic-recipe",
   "metadata": {},
   "source": []
  }
 ],
 "metadata": {
  "kernelspec": {
   "display_name": "SparkR (local)",
   "language": "R",
   "name": "ir"
  },
  "language_info": {
   "codemirror_mode": "r",
   "file_extension": ".r",
   "mimetype": "text/x-r-source",
   "name": "R",
   "pygments_lexer": "r",
   "version": "4.0.3"
  }
 },
 "nbformat": 4,
 "nbformat_minor": 5
}
