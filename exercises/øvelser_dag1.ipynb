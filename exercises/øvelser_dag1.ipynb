{
 "cells": [
  {
   "cell_type": "markdown",
   "id": "eligible-saver",
   "metadata": {},
   "source": [
    "# Øvelser dag 1\n",
    "## Oppgave 1 - kom i gang\n",
    "#### a) Hva er produkt av 4499 og 35?"
   ]
  },
  {
   "cell_type": "code",
   "execution_count": null,
   "id": "included-antarctica",
   "metadata": {},
   "outputs": [],
   "source": []
  },
  {
   "cell_type": "markdown",
   "id": "electric-donna",
   "metadata": {},
   "source": [
    "#### b) Lag et objekt med navnet ditt og skriv det ut"
   ]
  },
  {
   "cell_type": "code",
   "execution_count": null,
   "id": "rough-volunteer",
   "metadata": {},
   "outputs": [],
   "source": []
  },
  {
   "cell_type": "markdown",
   "id": "opponent-project",
   "metadata": {},
   "source": [
    "#### c) Slå opp hjelpfilen for funksjonen nchar"
   ]
  },
  {
   "cell_type": "code",
   "execution_count": null,
   "id": "initial-literature",
   "metadata": {},
   "outputs": [],
   "source": []
  },
  {
   "cell_type": "markdown",
   "id": "structural-capability",
   "metadata": {},
   "source": [
    "#### d) Bruk funksjonen nchar for å se hvor mange bokstaver navnet ditt innholder"
   ]
  },
  {
   "cell_type": "code",
   "execution_count": null,
   "id": "charming-palestine",
   "metadata": {},
   "outputs": [],
   "source": []
  },
  {
   "cell_type": "markdown",
   "id": "violent-alexander",
   "metadata": {},
   "source": [
    "#### e) Lag en vektor som inneholder 10 tall. Kalle listen antall_ansatte"
   ]
  },
  {
   "cell_type": "code",
   "execution_count": null,
   "id": "instructional-white",
   "metadata": {},
   "outputs": [],
   "source": []
  },
  {
   "cell_type": "markdown",
   "id": "romance-presence",
   "metadata": {},
   "source": [
    "#### f) Sjekk lengde av antall_ansatte med funksjonen length()"
   ]
  },
  {
   "cell_type": "code",
   "execution_count": null,
   "id": "greek-hybrid",
   "metadata": {},
   "outputs": [],
   "source": []
  },
  {
   "cell_type": "markdown",
   "id": "sonic-stamp",
   "metadata": {},
   "source": [
    "#### g) Skriv en test/logisk setning for å se hvilken i listen antall_ansatte er mindre enn 5"
   ]
  },
  {
   "cell_type": "code",
   "execution_count": null,
   "id": "fallen-vector",
   "metadata": {},
   "outputs": [],
   "source": []
  },
  {
   "cell_type": "markdown",
   "id": "handled-engagement",
   "metadata": {},
   "source": [
    "#### h) Skriv en test for å se om nummer 9 er i listen antall_ansatte"
   ]
  },
  {
   "cell_type": "code",
   "execution_count": null,
   "id": "answering-squad",
   "metadata": {},
   "outputs": [],
   "source": []
  },
  {
   "cell_type": "markdown",
   "id": "rough-batman",
   "metadata": {},
   "source": [
    "## Oppgave 2 - datasett\n",
    "#### a) Les inn datasett ytelser som ligger på felles/veiledning/r/eksempler/"
   ]
  },
  {
   "cell_type": "code",
   "execution_count": null,
   "id": "vocal-mumbai",
   "metadata": {},
   "outputs": [],
   "source": []
  },
  {
   "cell_type": "markdown",
   "id": "fatty-canberra",
   "metadata": {},
   "source": [
    "#### b) Se på datasett. Hvor mange variabler har det? Hva slags variabel er kommune_nr_navn?"
   ]
  },
  {
   "cell_type": "code",
   "execution_count": null,
   "id": "married-compatibility",
   "metadata": {},
   "outputs": [],
   "source": []
  },
  {
   "cell_type": "markdown",
   "id": "numerous-architecture",
   "metadata": {},
   "source": [
    "#### c) Hva er gjennomsnittsverdi av variabel utbetalt_mill_kr?"
   ]
  },
  {
   "cell_type": "code",
   "execution_count": null,
   "id": "alleged-knight",
   "metadata": {},
   "outputs": [],
   "source": []
  },
  {
   "cell_type": "markdown",
   "id": "three-scholar",
   "metadata": {},
   "source": [
    "#### d) Lagre ytelser datasett som en spark datasett og lagre det med et unique navn under felles/veiledning/r/eksempler"
   ]
  },
  {
   "cell_type": "code",
   "execution_count": null,
   "id": "alien-musical",
   "metadata": {},
   "outputs": [],
   "source": []
  }
 ],
 "metadata": {
  "kernelspec": {
   "display_name": "SparkR (local)",
   "language": "R",
   "name": "ir"
  },
  "language_info": {
   "codemirror_mode": "r",
   "file_extension": ".r",
   "mimetype": "text/x-r-source",
   "name": "R",
   "pygments_lexer": "r",
   "version": "4.0.3"
  }
 },
 "nbformat": 4,
 "nbformat_minor": 5
}
