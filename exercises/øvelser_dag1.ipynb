{
 "cells": [
  {
   "cell_type": "markdown",
   "id": "crazy-evans",
   "metadata": {},
   "source": [
    "# Øvelser dag 1\n",
    "## Oppgave 1 - kom i gang\n",
    "#### a) Hva er produkt av 4499 og 35?"
   ]
  },
  {
   "cell_type": "code",
   "execution_count": null,
   "id": "micro-rover",
   "metadata": {},
   "outputs": [],
   "source": []
  },
  {
   "cell_type": "markdown",
   "id": "whole-tsunami",
   "metadata": {},
   "source": [
    "#### b) Lage et objekt med navnet ditt og skriv det ut"
   ]
  },
  {
   "cell_type": "code",
   "execution_count": null,
   "id": "surface-throat",
   "metadata": {},
   "outputs": [],
   "source": []
  },
  {
   "cell_type": "markdown",
   "id": "received-technician",
   "metadata": {},
   "source": [
    "#### c) Slå opp hjelpfilen for funksjonen nchar"
   ]
  },
  {
   "cell_type": "code",
   "execution_count": null,
   "id": "living-third",
   "metadata": {},
   "outputs": [],
   "source": []
  },
  {
   "cell_type": "markdown",
   "id": "gothic-exemption",
   "metadata": {},
   "source": [
    "#### d) Bruk funksjonen nchar for å se hvor mange bokstaver navnet ditt innholder"
   ]
  },
  {
   "cell_type": "code",
   "execution_count": null,
   "id": "suspected-haven",
   "metadata": {},
   "outputs": [],
   "source": []
  },
  {
   "cell_type": "markdown",
   "id": "reverse-holocaust",
   "metadata": {},
   "source": [
    "#### e) Lage en vektor som inneholder 10 tall. Kalle listen antall_ansatte"
   ]
  },
  {
   "cell_type": "code",
   "execution_count": null,
   "id": "adjusted-gauge",
   "metadata": {},
   "outputs": [],
   "source": []
  },
  {
   "cell_type": "markdown",
   "id": "revolutionary-compatibility",
   "metadata": {},
   "source": [
    "#### f) Sjekk lengde av antall_ansatte med funksjonen length()"
   ]
  },
  {
   "cell_type": "code",
   "execution_count": null,
   "id": "funky-waters",
   "metadata": {},
   "outputs": [],
   "source": []
  },
  {
   "cell_type": "markdown",
   "id": "stone-transsexual",
   "metadata": {},
   "source": [
    "#### g) Skrive en test/logisk setning for å se hvilken i listen antall_ansatte er mindre enn 5"
   ]
  },
  {
   "cell_type": "code",
   "execution_count": null,
   "id": "mysterious-finish",
   "metadata": {},
   "outputs": [],
   "source": []
  },
  {
   "cell_type": "markdown",
   "id": "gothic-spine",
   "metadata": {},
   "source": [
    "#### h) Skrive en test for å se om nummer 9 er i listen antall_ansatte"
   ]
  },
  {
   "cell_type": "code",
   "execution_count": null,
   "id": "eligible-expression",
   "metadata": {},
   "outputs": [],
   "source": []
  },
  {
   "cell_type": "markdown",
   "id": "occupied-study",
   "metadata": {},
   "source": [
    "## Oppgave 2 - datasett\n",
    "#### a) Hent inn biblioteket tidyverse"
   ]
  },
  {
   "cell_type": "code",
   "execution_count": null,
   "id": "moving-replica",
   "metadata": {},
   "outputs": [],
   "source": []
  },
  {
   "cell_type": "markdown",
   "id": "dietary-worship",
   "metadata": {},
   "source": [
    "#### b) Les inn datasett ytelser som ligger på felles/veiledning/r/eksempler/"
   ]
  },
  {
   "cell_type": "code",
   "execution_count": null,
   "id": "earlier-pottery",
   "metadata": {},
   "outputs": [],
   "source": []
  },
  {
   "cell_type": "markdown",
   "id": "incoming-charter",
   "metadata": {},
   "source": [
    "#### c) Ser på datasett. Hvor mange variabler har det? Hva slags variabel er kommune_nr_navn?"
   ]
  },
  {
   "cell_type": "code",
   "execution_count": null,
   "id": "eight-spencer",
   "metadata": {},
   "outputs": [],
   "source": []
  },
  {
   "cell_type": "markdown",
   "id": "unnecessary-tours",
   "metadata": {},
   "source": [
    "#### d) Hva er gjennomsnittsverdi av variabel utbetalt_mill_kr?"
   ]
  },
  {
   "cell_type": "code",
   "execution_count": null,
   "id": "republican-choir",
   "metadata": {},
   "outputs": [],
   "source": []
  },
  {
   "cell_type": "markdown",
   "id": "fluid-freight",
   "metadata": {},
   "source": [
    "#### e) Les inn datasett som heter befolkning.csv i data mappe"
   ]
  },
  {
   "cell_type": "code",
   "execution_count": null,
   "id": "precise-vancouver",
   "metadata": {},
   "outputs": [],
   "source": []
  },
  {
   "cell_type": "markdown",
   "id": "banner-david",
   "metadata": {},
   "source": [
    "#### f) Lagre befolkning datasett som en spark datasett og lagre det med en unique navn under felles/veiledning/r/eksempler"
   ]
  },
  {
   "cell_type": "code",
   "execution_count": null,
   "id": "concrete-bishop",
   "metadata": {},
   "outputs": [],
   "source": []
  }
 ],
 "metadata": {
  "kernelspec": {
   "display_name": "SparkR (local)",
   "language": "R",
   "name": "ir"
  },
  "language_info": {
   "codemirror_mode": "r",
   "file_extension": ".r",
   "mimetype": "text/x-r-source",
   "name": "R",
   "pygments_lexer": "r",
   "version": "4.0.3"
  }
 },
 "nbformat": 4,
 "nbformat_minor": 5
}
