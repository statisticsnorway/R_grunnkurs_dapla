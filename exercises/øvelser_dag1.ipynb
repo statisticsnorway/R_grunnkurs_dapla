{
 "cells": [
  {
   "cell_type": "markdown",
   "id": "veterinary-intensity",
   "metadata": {},
   "source": [
    "# Øvelser dag 1\n",
    "## Oppgave 1 - kom i gang\n",
    "#### a) Hva er produkt av 4499 og 35?"
   ]
  },
  {
   "cell_type": "code",
   "execution_count": null,
   "id": "arbitrary-cologne",
   "metadata": {},
   "outputs": [],
   "source": []
  },
  {
   "cell_type": "markdown",
   "id": "declared-people",
   "metadata": {},
   "source": [
    "#### b) Lage et objekt med navnet ditt og skriv det ut"
   ]
  },
  {
   "cell_type": "code",
   "execution_count": null,
   "id": "loose-newton",
   "metadata": {},
   "outputs": [],
   "source": []
  },
  {
   "cell_type": "markdown",
   "id": "dedicated-bubble",
   "metadata": {},
   "source": [
    "#### c) Slå opp hjelpfilen for funksjonen nchar"
   ]
  },
  {
   "cell_type": "code",
   "execution_count": null,
   "id": "violent-feelings",
   "metadata": {},
   "outputs": [],
   "source": []
  },
  {
   "cell_type": "markdown",
   "id": "neural-subsection",
   "metadata": {},
   "source": [
    "#### d) Bruk funksjonen nchar for å se hvor mange bokstaver navnet ditt innholder"
   ]
  },
  {
   "cell_type": "code",
   "execution_count": null,
   "id": "meaning-digit",
   "metadata": {},
   "outputs": [],
   "source": []
  },
  {
   "cell_type": "markdown",
   "id": "isolated-writing",
   "metadata": {},
   "source": [
    "#### e) Lage en vektor som inneholder 10 tall. Kalle listen antall_ansatte"
   ]
  },
  {
   "cell_type": "code",
   "execution_count": null,
   "id": "technical-advertising",
   "metadata": {},
   "outputs": [],
   "source": []
  },
  {
   "cell_type": "markdown",
   "id": "close-mixer",
   "metadata": {},
   "source": [
    "#### f) Sjekk lengde av antall_ansatte med funksjonen length()"
   ]
  },
  {
   "cell_type": "code",
   "execution_count": null,
   "id": "incorrect-hypothetical",
   "metadata": {},
   "outputs": [],
   "source": []
  },
  {
   "cell_type": "markdown",
   "id": "talented-class",
   "metadata": {},
   "source": [
    "#### g) Skrive en test/logisk setning for å se hvilken i listen antall_ansatte er mindre enn 5"
   ]
  },
  {
   "cell_type": "code",
   "execution_count": null,
   "id": "complimentary-drain",
   "metadata": {},
   "outputs": [],
   "source": []
  },
  {
   "cell_type": "markdown",
   "id": "gothic-entrepreneur",
   "metadata": {},
   "source": [
    "#### h) Skrive en test for å se om nummer 9 er i listen antall_ansatte"
   ]
  },
  {
   "cell_type": "code",
   "execution_count": null,
   "id": "standard-hindu",
   "metadata": {},
   "outputs": [],
   "source": []
  },
  {
   "cell_type": "markdown",
   "id": "democratic-insertion",
   "metadata": {},
   "source": [
    "## Oppgave 2 - datasett\n",
    "#### a) Hent inn biblioteket tidyverse"
   ]
  },
  {
   "cell_type": "code",
   "execution_count": null,
   "id": "african-grounds",
   "metadata": {},
   "outputs": [],
   "source": []
  },
  {
   "cell_type": "markdown",
   "id": "surrounded-living",
   "metadata": {},
   "source": [
    "#### b) Les inn datasett ytelser som ligger på felles/veiledning/r/eksempler/"
   ]
  },
  {
   "cell_type": "code",
   "execution_count": null,
   "id": "dangerous-discussion",
   "metadata": {},
   "outputs": [],
   "source": []
  },
  {
   "cell_type": "markdown",
   "id": "impossible-fellowship",
   "metadata": {},
   "source": [
    "#### c) Ser på datasett. Hvor mange variabler har det? Hva slags variabel er kommune_nr_navn?"
   ]
  },
  {
   "cell_type": "code",
   "execution_count": null,
   "id": "monthly-institution",
   "metadata": {},
   "outputs": [],
   "source": []
  },
  {
   "cell_type": "markdown",
   "id": "interstate-island",
   "metadata": {},
   "source": [
    "#### d) Hva er gjennomsnittsverdi av variabel utbetalt_mill_kr?"
   ]
  },
  {
   "cell_type": "code",
   "execution_count": null,
   "id": "filled-spine",
   "metadata": {},
   "outputs": [],
   "source": []
  },
  {
   "cell_type": "markdown",
   "id": "center-adapter",
   "metadata": {},
   "source": [
    "#### e) Lagre ytelser datasett som en spark datasett og lagre det med et unique navn under felles/veiledning/r/eksempler"
   ]
  },
  {
   "cell_type": "code",
   "execution_count": null,
   "id": "divided-poster",
   "metadata": {},
   "outputs": [],
   "source": []
  }
 ],
 "metadata": {
  "kernelspec": {
   "display_name": "SparkR (local)",
   "language": "R",
   "name": "ir"
  },
  "language_info": {
   "codemirror_mode": "r",
   "file_extension": ".r",
   "mimetype": "text/x-r-source",
   "name": "R",
   "pygments_lexer": "r",
   "version": "4.0.3"
  }
 },
 "nbformat": 4,
 "nbformat_minor": 5
}
