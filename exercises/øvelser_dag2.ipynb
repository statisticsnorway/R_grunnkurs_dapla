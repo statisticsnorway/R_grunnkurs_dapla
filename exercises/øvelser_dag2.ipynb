{
 "cells": [
  {
   "cell_type": "markdown",
   "id": "annual-prison",
   "metadata": {},
   "source": [
    "# Dag 2: Øvelser\n",
    "## Oppgavesett 3\n",
    "\n",
    "#### 1) Les inn \"ytelser\" datasett som ligger på felles/veiledning/r/eksempler/. Lagre det til en vanlig datasett og ser på det."
   ]
  },
  {
   "cell_type": "code",
   "execution_count": null,
   "id": "removed-closing",
   "metadata": {},
   "outputs": [],
   "source": []
  },
  {
   "cell_type": "markdown",
   "id": "monetary-sally",
   "metadata": {},
   "source": [
    "#### 2) Lage en ny variabel med kommune nummer (4 siffer). Sjekk at den er lagret på datasett\n",
    "Hint: kommunenummer er de første 4 siffene i variabel kommune_nr_navn"
   ]
  },
  {
   "cell_type": "code",
   "execution_count": null,
   "id": "structural-astrology",
   "metadata": {},
   "outputs": [],
   "source": []
  },
  {
   "cell_type": "markdown",
   "id": "talented-pleasure",
   "metadata": {},
   "source": [
    "#### 3) Lage en ny variabel med fylkesnummer. \n",
    "Hint: fylkenummer er de første 2 siffer i variabel fylke_nr_navn"
   ]
  },
  {
   "cell_type": "code",
   "execution_count": null,
   "id": "stupid-victory",
   "metadata": {},
   "outputs": [],
   "source": []
  },
  {
   "cell_type": "markdown",
   "id": "promising-celebration",
   "metadata": {},
   "source": [
    "#### 4 ) Bruk filter for å se hvor mye barnetrygd ble utbetalt i 2015 for Kongsvinger \n",
    "Hint: Gammel kommunenummer var 0402\n",
    "Hint: Variabel utbetalt_mill_kr gis utbetalt verdi"
   ]
  },
  {
   "cell_type": "code",
   "execution_count": null,
   "id": "secondary-constitution",
   "metadata": {},
   "outputs": [],
   "source": []
  },
  {
   "cell_type": "markdown",
   "id": "figured-cassette",
   "metadata": {},
   "source": [
    "#### 5) Hva er summen av alle ytelsene for Kongsvinger?"
   ]
  },
  {
   "cell_type": "code",
   "execution_count": null,
   "id": "structured-keyboard",
   "metadata": {},
   "outputs": [],
   "source": []
  },
  {
   "cell_type": "markdown",
   "id": "small-garlic",
   "metadata": {},
   "source": [
    "#### 6) Hva er summen av alle ytelsene for Oslo per år?\n",
    "Hint: Kommmunenummer for Oslo er 0301\n"
   ]
  },
  {
   "cell_type": "code",
   "execution_count": null,
   "id": "worst-mattress",
   "metadata": {},
   "outputs": [],
   "source": []
  },
  {
   "cell_type": "markdown",
   "id": "speaking-blocking",
   "metadata": {},
   "source": [
    "#### 7) Hvor mange forsekjllige type ytelser ble utbetalt i Oslo i 2014? (Som er i datasett)\n",
    "Hint: bruk funksjon n() innen summarise() for å teller antall rader"
   ]
  },
  {
   "cell_type": "code",
   "execution_count": null,
   "id": "running-allah",
   "metadata": {},
   "outputs": [],
   "source": []
  },
  {
   "cell_type": "markdown",
   "id": "informative-poultry",
   "metadata": {},
   "source": [
    "## Oppgavesett 4\n",
    "### Kobling av data\n",
    "#### 1) Les inn filen befolkning.csv som ligger i data-mappe\n",
    "Dette innholder befolking per kommune etter aldersgrupper"
   ]
  },
  {
   "cell_type": "code",
   "execution_count": null,
   "id": "minor-arctic",
   "metadata": {},
   "outputs": [],
   "source": []
  },
  {
   "cell_type": "markdown",
   "id": "optional-indonesia",
   "metadata": {},
   "source": [
    "#### 2) Filter datasett så at det kun inneholder antall som er 65+ år per kommune\n",
    "Bruk select for å kun beholde variabler Region, value og Tid\n",
    "Hint: aldergruppe for de 65+ år heter \"F65+\""
   ]
  },
  {
   "cell_type": "code",
   "execution_count": null,
   "id": "published-referral",
   "metadata": {},
   "outputs": [],
   "source": []
  },
  {
   "cell_type": "markdown",
   "id": "fatty-ceiling",
   "metadata": {},
   "source": [
    "#### 3) Endre navn til variabel \"value\" til \"befolk65\""
   ]
  },
  {
   "cell_type": "code",
   "execution_count": null,
   "id": "binary-technology",
   "metadata": {},
   "outputs": [],
   "source": []
  },
  {
   "cell_type": "markdown",
   "id": "systematic-inquiry",
   "metadata": {},
   "source": [
    "#### 4) Koble ytelser og befolkning datasett sammen ved kommunenummer og år som nøkkelvariabel\n",
    "Behold kun alle rader i ytelserdatasett"
   ]
  },
  {
   "cell_type": "code",
   "execution_count": null,
   "id": "interior-baseball",
   "metadata": {},
   "outputs": [],
   "source": []
  },
  {
   "cell_type": "markdown",
   "id": "developmental-spring",
   "metadata": {},
   "source": [
    "### Figurer\n",
    "#### 5) Lage en linjediagram av total ytelser per år.\n",
    "Hint: linjedigarm er samme som punktdiagram men med geom_smooth()\n",
    "Hint: Gruppere først, deretter summere, og deretter plott"
   ]
  },
  {
   "cell_type": "code",
   "execution_count": null,
   "id": "acknowledged-resource",
   "metadata": {},
   "outputs": [],
   "source": []
  },
  {
   "cell_type": "markdown",
   "id": "dedicated-contemporary",
   "metadata": {},
   "source": [
    "#### 6) Lage samme plott av ytelser men i milliarder (istedenfor millioner)\n",
    "Bruk `+ ylim(0,500)` for å spesifisere y-akser skal være mellom 0 og 500."
   ]
  },
  {
   "cell_type": "code",
   "execution_count": null,
   "id": "fallen-donna",
   "metadata": {},
   "outputs": [],
   "source": []
  },
  {
   "cell_type": "markdown",
   "id": "smaller-reply",
   "metadata": {},
   "source": [
    "#### 7) Lage samme plott av ytelser men legg til akse-navn som er mer meningsfult\n",
    "Hint: bruk scale_x_coninuous og tilsvarende for y\n",
    "Hint: skriv ?scale_x_continuous for hjelpfil"
   ]
  },
  {
   "cell_type": "code",
   "execution_count": null,
   "id": "monthly-bailey",
   "metadata": {},
   "outputs": [],
   "source": []
  },
  {
   "cell_type": "markdown",
   "id": "loved-batch",
   "metadata": {},
   "source": [
    "#### 8) Lage en ny linjediagram for ytelser per år farget etter stønadsområde. Lage det for Kongvinger.\n",
    "Hint: siden datasett innholde utbetalt verdier per stønadsområde, trenger du ikke å oppsummere. Bruk `aes(color = )` innen `geom_line()` til farger."
   ]
  },
  {
   "cell_type": "code",
   "execution_count": null,
   "id": "exciting-potter",
   "metadata": {},
   "outputs": [],
   "source": []
  },
  {
   "cell_type": "markdown",
   "id": "illegal-rogers",
   "metadata": {},
   "source": [
    "#### 9) Lage en punktdiagram av antall 65+ og utbetalt for stønadsområde \"Alderspensjon\" for 2015. Legg på en regresjonlinje"
   ]
  },
  {
   "cell_type": "code",
   "execution_count": null,
   "id": "advised-russia",
   "metadata": {},
   "outputs": [],
   "source": []
  }
 ],
 "metadata": {
  "kernelspec": {
   "display_name": "SparkR (local)",
   "language": "R",
   "name": "ir"
  },
  "language_info": {
   "codemirror_mode": "r",
   "file_extension": ".r",
   "mimetype": "text/x-r-source",
   "name": "R",
   "pygments_lexer": "r",
   "version": "4.0.3"
  }
 },
 "nbformat": 4,
 "nbformat_minor": 5
}
