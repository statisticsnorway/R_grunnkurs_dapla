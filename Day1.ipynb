{
 "cells": [
  {
   "cell_type": "markdown",
   "id": "necessary-continuity",
   "metadata": {},
   "source": [
    "### Eksempler kode for R Introduksjonskurs - DAG 1"
   ]
  },
  {
   "cell_type": "markdown",
   "id": "informed-soldier",
   "metadata": {},
   "source": [
    "#### Beregninger"
   ]
  },
  {
   "cell_type": "code",
   "execution_count": null,
   "id": "medical-cigarette",
   "metadata": {},
   "outputs": [],
   "source": [
    "2 + 2\n",
    "5 - 2\n",
    "25 * 4\n",
    "5 ^ 2"
   ]
  },
  {
   "cell_type": "markdown",
   "id": "endangered-penny",
   "metadata": {},
   "source": [
    "#### Et lite tall"
   ]
  },
  {
   "cell_type": "code",
   "execution_count": null,
   "id": "frozen-cement",
   "metadata": {},
   "outputs": [],
   "source": [
    "3E-2"
   ]
  },
  {
   "cell_type": "markdown",
   "id": "harmful-franchise",
   "metadata": {},
   "source": [
    "#### Et stort tall"
   ]
  },
  {
   "cell_type": "code",
   "execution_count": null,
   "id": "preliminary-tucson",
   "metadata": {},
   "outputs": [],
   "source": [
    "3E7"
   ]
  },
  {
   "cell_type": "markdown",
   "id": "precious-serve",
   "metadata": {},
   "source": [
    "#### log av et tall (natural)"
   ]
  },
  {
   "cell_type": "code",
   "execution_count": null,
   "id": "stock-mills",
   "metadata": {},
   "outputs": [],
   "source": [
    "log(10)"
   ]
  },
  {
   "cell_type": "markdown",
   "id": "manufactured-baptist",
   "metadata": {},
   "source": [
    "#### exponential tall (e)"
   ]
  },
  {
   "cell_type": "code",
   "execution_count": null,
   "id": "perceived-prayer",
   "metadata": {},
   "outputs": [],
   "source": [
    "exp(2)"
   ]
  },
  {
   "cell_type": "markdown",
   "id": "charitable-ordinary",
   "metadata": {},
   "source": [
    "#### en string\n"
   ]
  },
  {
   "cell_type": "code",
   "execution_count": null,
   "id": "chronic-overall",
   "metadata": {},
   "outputs": [],
   "source": [
    "\"Hello, world!\""
   ]
  },
  {
   "cell_type": "markdown",
   "id": "controversial-gilbert",
   "metadata": {},
   "source": [
    "#### lim ting sammen til en string\n"
   ]
  },
  {
   "cell_type": "code",
   "execution_count": null,
   "id": "pending-detection",
   "metadata": {},
   "outputs": [],
   "source": [
    "paste(\"Hello\", \"Susie\")\n",
    "paste(\"Hello\", \"Susie\", sep = \", \")\n",
    "paste(\"Susie er\", 39, \"år gammel\")"
   ]
  },
  {
   "cell_type": "markdown",
   "id": "earned-douglas",
   "metadata": {},
   "source": [
    "#### Plukk ut noen character i en string"
   ]
  },
  {
   "cell_type": "code",
   "execution_count": null,
   "id": "rental-sunrise",
   "metadata": {},
   "outputs": [],
   "source": [
    "substr(\"Susie liker kake\", 1, 2)\n",
    "substr(\"Susie liker kake\", 13, 16)"
   ]
  },
  {
   "cell_type": "markdown",
   "id": "pleased-attraction",
   "metadata": {},
   "source": [
    "### Objekter"
   ]
  },
  {
   "cell_type": "code",
   "execution_count": null,
   "id": "coordinate-costs",
   "metadata": {},
   "outputs": [],
   "source": [
    "grunnlagt <- 1669\n",
    "grunnlagt"
   ]
  },
  {
   "cell_type": "code",
   "execution_count": null,
   "id": "phantom-undergraduate",
   "metadata": {},
   "outputs": [],
   "source": [
    "sted <- \"Kongsvinger Festning\"\n",
    "sted"
   ]
  },
  {
   "cell_type": "markdown",
   "id": "cathedral-irish",
   "metadata": {},
   "source": [
    "#### Objekter kan overskrives"
   ]
  },
  {
   "cell_type": "code",
   "execution_count": null,
   "id": "premium-turning",
   "metadata": {},
   "outputs": [],
   "source": [
    "grunnlagt <- grunnlagt + 1\n",
    "grunnlagt"
   ]
  },
  {
   "cell_type": "code",
   "execution_count": null,
   "id": "fresh-subsection",
   "metadata": {},
   "outputs": [],
   "source": [
    "sted <- \"Oslo\"\n",
    "sted"
   ]
  },
  {
   "cell_type": "markdown",
   "id": "neural-finance",
   "metadata": {},
   "source": [
    "#### Objekttype"
   ]
  },
  {
   "cell_type": "code",
   "execution_count": null,
   "id": "assured-storage",
   "metadata": {},
   "outputs": [],
   "source": [
    "str(sted)\n",
    "str(grunnlagt)"
   ]
  },
  {
   "cell_type": "markdown",
   "id": "civilian-award",
   "metadata": {},
   "source": [
    "## Vektorer\n",
    "##### Eksempel på en numerisk vector "
   ]
  },
  {
   "cell_type": "code",
   "execution_count": null,
   "id": "electrical-triangle",
   "metadata": {},
   "outputs": [],
   "source": [
    "aar <- c(2018, 2019, 2020)\n",
    "aar"
   ]
  },
  {
   "cell_type": "markdown",
   "id": "announced-webcam",
   "metadata": {},
   "source": [
    "#### Eksempel på en kategoriske vektor"
   ]
  },
  {
   "cell_type": "code",
   "execution_count": null,
   "id": "brave-sauce",
   "metadata": {},
   "outputs": [],
   "source": [
    "flere_sted <- c(\"Oslo\",\"Kongsvinger\", \"Rogaland\")\n",
    "flere_sted"
   ]
  },
  {
   "cell_type": "markdown",
   "id": "upper-chess",
   "metadata": {},
   "source": [
    "#### Hvor mange er i vektoren"
   ]
  },
  {
   "cell_type": "code",
   "execution_count": null,
   "id": "recent-partition",
   "metadata": {},
   "outputs": [],
   "source": [
    "length(flere_sted)"
   ]
  },
  {
   "cell_type": "markdown",
   "id": "younger-inquiry",
   "metadata": {},
   "source": [
    "## Logiske setninger"
   ]
  },
  {
   "cell_type": "code",
   "execution_count": null,
   "id": "original-bandwidth",
   "metadata": {},
   "outputs": [],
   "source": [
    "grunnlagt == 1668\n",
    "grunnlagt == 1669\n",
    "aar == 2018"
   ]
  },
  {
   "cell_type": "markdown",
   "id": "perceived-henry",
   "metadata": {},
   "source": [
    "#### test for motsetninger"
   ]
  },
  {
   "cell_type": "code",
   "execution_count": null,
   "id": "incomplete-quilt",
   "metadata": {},
   "outputs": [],
   "source": [
    "2 != 3"
   ]
  },
  {
   "cell_type": "markdown",
   "id": "fatty-blogger",
   "metadata": {},
   "source": [
    "#### test for innhold"
   ]
  },
  {
   "cell_type": "code",
   "execution_count": null,
   "id": "approved-passenger",
   "metadata": {},
   "outputs": [],
   "source": [
    "2018 %in% aar\n",
    "2015 %in% aar\n",
    "\n",
    "ifelse(sted == \"Oslo\", \"0301\", \"3401\")"
   ]
  },
  {
   "cell_type": "markdown",
   "id": "stunning-substitute",
   "metadata": {},
   "source": [
    "## lage en datasett"
   ]
  },
  {
   "cell_type": "code",
   "execution_count": null,
   "id": "desperate-genealogy",
   "metadata": {},
   "outputs": [],
   "source": [
    "steddata <- data.frame(flere_sted, aar)\n",
    "steddata"
   ]
  },
  {
   "cell_type": "code",
   "execution_count": null,
   "id": "vietnamese-oriental",
   "metadata": {},
   "outputs": [],
   "source": [
    "fylkedata <- data.frame(fylke = c(\"Viken\",  \"Innlandet\"), innbyggere = c(1241000, 371000))\n",
    "fylkedata"
   ]
  },
  {
   "cell_type": "markdown",
   "id": "eleven-dubai",
   "metadata": {},
   "source": [
    "## Les inn data fra datalageret (Dapla)"
   ]
  },
  {
   "cell_type": "markdown",
   "id": "waiting-lodging",
   "metadata": {},
   "source": [
    "For å lese inn data fra datalageret må funksjonen <code>spark.read.path</code> benyttes. Den ivaretar informasjonssikkerheten knyttet til hvem som har tilgang til å se hvilke data. \n",
    "\n",
    "Funksjonen er automatisk tilgjengelig i __SparkR__ kernel.\n",
    "\n",
    "#### Finne datasett\n",
    "<code>spark.read.path</code> krever en sti (eng: path) til hvor dataene ligger. For å finne denne stien, så kan vi bruke <code>spark.read.path</code> til å lete:"
   ]
  },
  {
   "cell_type": "code",
   "execution_count": null,
   "id": "tender-cancellation",
   "metadata": {},
   "outputs": [],
   "source": [
    "df_datasett <- spark.read.path('/felles/*')\n",
    "head(df_datasett,100)"
   ]
  },
  {
   "cell_type": "markdown",
   "id": "recognized-entrance",
   "metadata": {},
   "source": [
    "#### lese inn datasettet 'bnp_og_innbyggerantall'"
   ]
  },
  {
   "cell_type": "code",
   "execution_count": null,
   "id": "ceramic-middle",
   "metadata": {},
   "outputs": [],
   "source": [
    "bnp_og_innbyggerantall <- spark.read.path('/felles/veiledning/pyspark/eksempler/bnp_og_innbyggerantall')\n",
    "head(bnp_og_innbyggerantall,100)"
   ]
  },
  {
   "cell_type": "markdown",
   "id": "executive-glory",
   "metadata": {},
   "source": [
    "## Les inn fra Statbanken\n",
    "KPI https://www.ssb.no/statbank/table/03013/"
   ]
  },
  {
   "cell_type": "code",
   "execution_count": null,
   "id": "photographic-fireplace",
   "metadata": {},
   "outputs": [],
   "source": [
    "library(PxWebApiData)\n",
    "kpi <- ApiData(03013)\n",
    "kpi[[2]]"
   ]
  },
  {
   "cell_type": "code",
   "execution_count": null,
   "id": "bored-evidence",
   "metadata": {},
   "outputs": [],
   "source": [
    "kpi <- ApiData(03013, ContentsCode = \"KpiIndMnd\", \n",
    "               Konsumgrp = \"TOTAL\",\n",
    "               Tid = \"2020M08\")\n",
    "kpi[[2]]"
   ]
  },
  {
   "cell_type": "markdown",
   "id": "special-february",
   "metadata": {},
   "source": [
    "## Ser næremere på data\n"
   ]
  },
  {
   "cell_type": "code",
   "execution_count": null,
   "id": "prescription-engineering",
   "metadata": {},
   "outputs": [],
   "source": [
    "#Det ser ikke ut til at glimpse fungerer\n",
    "#glimpse(kpi)"
   ]
  },
  {
   "cell_type": "code",
   "execution_count": null,
   "id": "neutral-independence",
   "metadata": {},
   "outputs": [],
   "source": [
    "summary(kpi)"
   ]
  },
  {
   "cell_type": "code",
   "execution_count": null,
   "id": "opposed-plastic",
   "metadata": {},
   "outputs": [],
   "source": [
    "names(kpi)"
   ]
  },
  {
   "cell_type": "code",
   "execution_count": null,
   "id": "synthetic-appendix",
   "metadata": {},
   "outputs": [],
   "source": []
  },
  {
   "cell_type": "code",
   "execution_count": null,
   "id": "binary-relay",
   "metadata": {},
   "outputs": [],
   "source": []
  }
 ],
 "metadata": {
  "kernelspec": {
   "display_name": "SparkR (local)",
   "language": "R",
   "name": "ir"
  },
  "language_info": {
   "codemirror_mode": "r",
   "file_extension": ".r",
   "mimetype": "text/x-r-source",
   "name": "R",
   "pygments_lexer": "r",
   "version": "4.0.3"
  }
 },
 "nbformat": 4,
 "nbformat_minor": 5
}
