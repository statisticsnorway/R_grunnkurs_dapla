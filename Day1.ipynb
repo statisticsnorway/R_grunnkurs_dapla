{
 "cells": [
  {
   "cell_type": "markdown",
   "id": "authorized-december",
   "metadata": {},
   "source": [
    "<img src=\"viz/Rlogo.png\" alt=\"Drawing\" style=\"width: 200px;\"/>\n",
    "\n",
    "# R Grunnkurs på Dapla\n",
    "# DEL 1: Introduksjon"
   ]
  },
  {
   "cell_type": "markdown",
   "id": "processed-tissue",
   "metadata": {},
   "source": [
    "#### Beregninger"
   ]
  },
  {
   "cell_type": "code",
   "execution_count": null,
   "id": "prime-board",
   "metadata": {},
   "outputs": [],
   "source": [
    "2 + 2\n",
    "5 - 2\n",
    "25 * 4\n",
    "5 ^ 2"
   ]
  },
  {
   "cell_type": "markdown",
   "id": "demanding-interest",
   "metadata": {},
   "source": [
    "#### Et lite tall"
   ]
  },
  {
   "cell_type": "code",
   "execution_count": null,
   "id": "prerequisite-subcommittee",
   "metadata": {},
   "outputs": [],
   "source": [
    "3E-2"
   ]
  },
  {
   "cell_type": "markdown",
   "id": "unusual-respect",
   "metadata": {},
   "source": [
    "#### Et stort tall"
   ]
  },
  {
   "cell_type": "code",
   "execution_count": null,
   "id": "portable-syria",
   "metadata": {},
   "outputs": [],
   "source": [
    "3E7"
   ]
  },
  {
   "cell_type": "markdown",
   "id": "proud-candle",
   "metadata": {},
   "source": [
    "#### log av et tall (natural)"
   ]
  },
  {
   "cell_type": "code",
   "execution_count": null,
   "id": "nuclear-adaptation",
   "metadata": {},
   "outputs": [],
   "source": [
    "log(10)"
   ]
  },
  {
   "cell_type": "markdown",
   "id": "insured-benefit",
   "metadata": {},
   "source": [
    "#### exponential tall (e)"
   ]
  },
  {
   "cell_type": "code",
   "execution_count": null,
   "id": "least-bulletin",
   "metadata": {},
   "outputs": [],
   "source": [
    "exp(2)"
   ]
  },
  {
   "cell_type": "markdown",
   "id": "massive-queen",
   "metadata": {},
   "source": [
    "#### en string\n"
   ]
  },
  {
   "cell_type": "code",
   "execution_count": null,
   "id": "lesser-street",
   "metadata": {},
   "outputs": [],
   "source": [
    "\"Hello, world!\""
   ]
  },
  {
   "cell_type": "markdown",
   "id": "substantial-campbell",
   "metadata": {},
   "source": [
    "#### lim ting sammen til en string\n"
   ]
  },
  {
   "cell_type": "code",
   "execution_count": null,
   "id": "wicked-canyon",
   "metadata": {},
   "outputs": [],
   "source": [
    "paste(\"Hello\", \"Susie\")\n",
    "paste(\"Hello\", \"Susie\", sep = \", \")\n",
    "paste(\"Susie er\", 39, \"år gammel\")"
   ]
  },
  {
   "cell_type": "markdown",
   "id": "certain-humor",
   "metadata": {},
   "source": [
    "#### Plukk ut noen character i en string"
   ]
  },
  {
   "cell_type": "code",
   "execution_count": null,
   "id": "surgical-welsh",
   "metadata": {},
   "outputs": [],
   "source": [
    "substr(\"Susie liker kake\", 1, 2)\n",
    "substr(\"Susie liker kake\", 13, 16)"
   ]
  },
  {
   "cell_type": "markdown",
   "id": "several-lambda",
   "metadata": {},
   "source": [
    "### Objekter"
   ]
  },
  {
   "cell_type": "code",
   "execution_count": null,
   "id": "phantom-relevance",
   "metadata": {},
   "outputs": [],
   "source": [
    "grunnlagt <- 1669\n",
    "grunnlagt"
   ]
  },
  {
   "cell_type": "code",
   "execution_count": null,
   "id": "uniform-sullivan",
   "metadata": {},
   "outputs": [],
   "source": [
    "sted <- \"Kongsvinger Festning\"\n",
    "sted"
   ]
  },
  {
   "cell_type": "markdown",
   "id": "saved-iceland",
   "metadata": {},
   "source": [
    "#### Objekter kan overskrives"
   ]
  },
  {
   "cell_type": "code",
   "execution_count": null,
   "id": "serious-fireplace",
   "metadata": {},
   "outputs": [],
   "source": [
    "grunnlagt <- grunnlagt + 1\n",
    "grunnlagt"
   ]
  },
  {
   "cell_type": "markdown",
   "id": "contained-deadline",
   "metadata": {},
   "source": [
    "#### Objekttype"
   ]
  },
  {
   "cell_type": "code",
   "execution_count": null,
   "id": "noticed-intake",
   "metadata": {},
   "outputs": [],
   "source": [
    "str(sted)\n",
    "str(grunnlagt)"
   ]
  },
  {
   "cell_type": "markdown",
   "id": "macro-accident",
   "metadata": {},
   "source": [
    "## Vektorer\n",
    "#### Eksempel på en numerisk vector "
   ]
  },
  {
   "cell_type": "code",
   "execution_count": null,
   "id": "undefined-subdivision",
   "metadata": {},
   "outputs": [],
   "source": [
    "aar <- c(2018, 2019, 2020)\n",
    "aar"
   ]
  },
  {
   "cell_type": "markdown",
   "id": "consecutive-budget",
   "metadata": {},
   "source": [
    "#### Eksempel på en kategoriske vektor"
   ]
  },
  {
   "cell_type": "code",
   "execution_count": null,
   "id": "resistant-badge",
   "metadata": {},
   "outputs": [],
   "source": [
    "flere_sted <- c(\"Oslo\",\"Kongsvinger\", \"Rogaland\")\n",
    "flere_sted"
   ]
  },
  {
   "cell_type": "markdown",
   "id": "pregnant-fever",
   "metadata": {},
   "source": [
    "#### Hvor mange er i vektoren"
   ]
  },
  {
   "cell_type": "code",
   "execution_count": null,
   "id": "lovely-norman",
   "metadata": {},
   "outputs": [],
   "source": [
    "length(flere_sted)"
   ]
  },
  {
   "cell_type": "markdown",
   "id": "liked-yacht",
   "metadata": {},
   "source": [
    "## Logiske setninger"
   ]
  },
  {
   "cell_type": "code",
   "execution_count": null,
   "id": "little-jones",
   "metadata": {},
   "outputs": [],
   "source": [
    "grunnlagt == 1668\n",
    "grunnlagt == 1669\n",
    "aar == 2018"
   ]
  },
  {
   "cell_type": "markdown",
   "id": "limiting-crystal",
   "metadata": {},
   "source": [
    "#### Test for motsetninger"
   ]
  },
  {
   "cell_type": "code",
   "execution_count": null,
   "id": "small-saudi",
   "metadata": {},
   "outputs": [],
   "source": [
    "2 != 3"
   ]
  },
  {
   "cell_type": "markdown",
   "id": "functioning-piano",
   "metadata": {},
   "source": [
    "### Test for innhold"
   ]
  },
  {
   "cell_type": "code",
   "execution_count": null,
   "id": "suspended-format",
   "metadata": {},
   "outputs": [],
   "source": [
    "2018 %in% aar\n",
    "2015 %in% aar\n",
    "\n",
    "ifelse(sted == \"Oslo\", \"0301\", \"3401\")"
   ]
  },
  {
   "cell_type": "markdown",
   "id": "talented-equality",
   "metadata": {},
   "source": [
    "# DEL 2: Data\n",
    "## Lage data (lagret i minne)\n",
    "Vi kan lage et vanlig datasett ved funksjonen `data.frame()`. Funkjsonen kombinerer flere vektorer av samme lengde til et objekt. Funkjsonen `head()` vises de første 6 linjer. Hvis det er vektorer lagre i minne fra før kan disse kombineres til et datasett eller kan vektorenen spesifiseres. "
   ]
  },
  {
   "cell_type": "code",
   "execution_count": null,
   "id": "cosmetic-command",
   "metadata": {},
   "outputs": [],
   "source": [
    "fylkedata <- data.frame(fylke = c(\"Viken\",  \"Innlandet\"), innbyggere = c(1241000, 371000))\n",
    "head(fylkedata)"
   ]
  },
  {
   "cell_type": "markdown",
   "id": "driving-sending",
   "metadata": {},
   "source": [
    "For en oppsummering av datasettet kan vi bruke funkjsonen `summary()`."
   ]
  },
  {
   "cell_type": "code",
   "execution_count": null,
   "id": "equivalent-poverty",
   "metadata": {},
   "outputs": [],
   "source": [
    "summary(fylkedata)"
   ]
  },
  {
   "cell_type": "markdown",
   "id": "fantastic-passion",
   "metadata": {},
   "source": [
    "## Lese inn data fra datalageret (Dapla)"
   ]
  },
  {
   "cell_type": "markdown",
   "id": "shared-continuity",
   "metadata": {},
   "source": [
    "For å lese inn data fra datalageret må funksjonen <code>spark.read.path</code> benyttes. Den ivaretar informasjonssikkerheten knyttet til hvem som har tilgang til å se hvilke data. \n",
    "\n",
    "Funksjonen er automatisk tilgjengelig i __SparkR__ kernel.\n",
    "\n",
    "#### Finne datasett\n",
    "<code>spark.read.path</code> krever en sti (eng: path) til hvor dataene ligger. For å finne denne stien, så kan vi bruke <code>spark.read.path</code> til å lete:"
   ]
  },
  {
   "cell_type": "code",
   "execution_count": null,
   "id": "fitting-venice",
   "metadata": {},
   "outputs": [],
   "source": [
    "df_datasett <- spark.read.path('/felles/*')\n",
    "head(df_datasett)"
   ]
  },
  {
   "cell_type": "markdown",
   "id": "literary-outside",
   "metadata": {},
   "source": [
    "#### Lese inn datasettet 'bnp_og_innbyggerantall'"
   ]
  },
  {
   "cell_type": "code",
   "execution_count": null,
   "id": "productive-error",
   "metadata": {},
   "outputs": [],
   "source": [
    "bnp <- spark.read.path('/felles/veiledning/pyspark/eksempler/bnp_og_innbyggerantall')\n",
    "head(bnp)"
   ]
  },
  {
   "cell_type": "markdown",
   "id": "south-transformation",
   "metadata": {},
   "source": [
    "## Skrive data til datalagre (dapla)\n",
    "Før du lagre data fra prod. sone til dapla bør du lese å gå gjennom SSBs prosedyre for dette.  \n",
    "[SSBs prosedyre for overføring til Dapla](https://statistics-norway.atlassian.net/wiki/spaces/MS/pages/1648853195/Prosedyre+for+overf+re+data+til+Dapla+fra+prodsonen)\n",
    "\n",
    "Prosedyren inkluderer verdering av [sikkerhet, tilgangsstyring og verdiverdering](https://statistics-norway.atlassian.net/wiki/spaces/MS/pages/1586204629/Sikkerhet+tilgangstyring+og+verdivurdering). \n",
    "\n",
    "Etter verdering er det mulig å lagre data direkte fra en notebook. For å lagre data til datalagre må vi først lagre datasett på et format som passer til datalagringssytemet. Fra R må data være en SparkDataFrame. Vi gjøre dette endringen ved funksjonen `as.DataFrame()`. \n",
    "\n",
    "Her er et eksempel av endring i format av datasett fylkedata som vi laget tidligere."
   ]
  },
  {
   "cell_type": "code",
   "execution_count": null,
   "id": "alert-minute",
   "metadata": {},
   "outputs": [],
   "source": [
    "spark_df <- as.DataFrame(fylkedata)\n",
    "str(spark_df)"
   ]
  },
  {
   "cell_type": "markdown",
   "id": "asian-castle",
   "metadata": {},
   "source": [
    "Og deretter kan vi lagre til skyen ved bruk av funksjonen `spark.write.path()`. Vi spesifisere data som skal lagres og hvor, med navn. \n",
    "\n",
    "Parameter **valuation** spesifisere beskyttelsesbehov. Det kan ta verdiene:\n",
    "- \"Sensitive\" = Data som er sensitiv\n",
    "- \"Shielded\" = Skjermet\n",
    "- \"Internal\" = Data for intern bruk\n",
    "- \"Open\" = Data som er åpen \n",
    "\n",
    "Parameter **state** sier noen om hvor i produksjonsprosess data er og kvalitet på det. \n",
    "- \"Other\"\n",
    "- \"Raw\" = rådata\n",
    "- \"Input\" = inndata\n",
    "- \"Processed\" = data som er klargjort\n",
    "- \"Output\" = utdata\n",
    "- \"Product\"\n",
    "- \"Temp\"\n",
    "\n",
    "For oppdatering av *valuation* og *state* parameterne ser [kode på github](https://github.com/statisticsnorway/dapla-catalog-protobuf/blob/master/src/main/proto/dataset.proto)."
   ]
  },
  {
   "cell_type": "code",
   "execution_count": null,
   "id": "returning-creation",
   "metadata": {},
   "outputs": [],
   "source": [
    "spark.write.path(spark_df, \"/felles/veiledning/r/eksempler/fylke\", valuation = \"INTERNAL\", state = \"INPUT\")"
   ]
  },
  {
   "cell_type": "markdown",
   "id": "understood-enterprise",
   "metadata": {},
   "source": [
    "## Les inn data fra Statbank\n",
    "Data kan leses inn fra Statbank direkte. For dette bruker vi funkjsonen `ApiData()` i tilleggspakke **PxWebApiData**. For å hente data trenger du å vite tabell nummer. Funksjonen returneres en liste hvor det andre elementet er datasettet. Dette kan vises ved å spesifisere`[[2]]`. For mer info se på e-læringskurs her: <https://ssbviz.shinyapps.io/ApiData/>\n",
    "\n",
    "Følgende eksempel viser innlesing av data fra https://www.ssb.no/statbank/table/03013/"
   ]
  },
  {
   "cell_type": "code",
   "execution_count": null,
   "id": "german-indonesian",
   "metadata": {},
   "outputs": [],
   "source": [
    "library(PxWebApiData)\n",
    "kpi <- ApiData(03013)[[2]]\n",
    "head(kpi)"
   ]
  },
  {
   "cell_type": "markdown",
   "id": "champion-disabled",
   "metadata": {},
   "source": [
    "## Datasett type\n",
    "Datasett kan være av forskjellige type i R. For å finne ut hva slags type datasett det er bruker vi `str()`. Det mest standard er 'data.frame'. Når vi lese inn fra Dapla Sky-lagring er data type 'SparkDataFrame'. Ved bruk av tidyverse innlesning (for eksempel `read_csv()`) er data type 'tibble'. Vi kan endre datasett type til en vanlig R data frame ved bruk av `as.data.frame()`. "
   ]
  },
  {
   "cell_type": "code",
   "execution_count": null,
   "id": "statewide-timing",
   "metadata": {},
   "outputs": [],
   "source": [
    "str(bnp)"
   ]
  },
  {
   "cell_type": "code",
   "execution_count": null,
   "id": "differential-sailing",
   "metadata": {},
   "outputs": [],
   "source": [
    "bnp <- as.data.frame(bnp)\n",
    "str(bnp)"
   ]
  },
  {
   "cell_type": "code",
   "execution_count": null,
   "id": "included-parameter",
   "metadata": {},
   "outputs": [],
   "source": []
  }
 ],
 "metadata": {
  "kernelspec": {
   "display_name": "SparkR (local)",
   "language": "R",
   "name": "ir"
  },
  "language_info": {
   "codemirror_mode": "r",
   "file_extension": ".r",
   "mimetype": "text/x-r-source",
   "name": "R",
   "pygments_lexer": "r",
   "version": "4.0.3"
  }
 },
 "nbformat": 4,
 "nbformat_minor": 5
}
