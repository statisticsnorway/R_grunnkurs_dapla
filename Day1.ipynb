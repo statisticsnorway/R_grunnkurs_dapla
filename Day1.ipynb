{
 "cells": [
  {
   "cell_type": "markdown",
   "id": "signed-hazard",
   "metadata": {},
   "source": [
    "<img src=\"viz/Rlogo.png\" alt=\"Drawing\" style=\"width: 200px;\"/>\n",
    "\n",
    "# R Grunnkurs på Dapla\n",
    "# DEL 1: Introduksjon"
   ]
  },
  {
   "cell_type": "markdown",
   "id": "exceptional-tribe",
   "metadata": {},
   "source": [
    "#### Beregninger"
   ]
  },
  {
   "cell_type": "code",
   "execution_count": null,
   "id": "fresh-house",
   "metadata": {},
   "outputs": [],
   "source": [
    "2 + 2\n",
    "5 - 2\n",
    "25 * 4\n",
    "5 ^ 2"
   ]
  },
  {
   "cell_type": "markdown",
   "id": "female-departure",
   "metadata": {},
   "source": [
    "#### Et lite tall"
   ]
  },
  {
   "cell_type": "code",
   "execution_count": null,
   "id": "structural-quarter",
   "metadata": {},
   "outputs": [],
   "source": [
    "3E-2"
   ]
  },
  {
   "cell_type": "markdown",
   "id": "congressional-roberts",
   "metadata": {},
   "source": [
    "#### Et stort tall"
   ]
  },
  {
   "cell_type": "code",
   "execution_count": null,
   "id": "conventional-summit",
   "metadata": {},
   "outputs": [],
   "source": [
    "3E7"
   ]
  },
  {
   "cell_type": "markdown",
   "id": "orange-swimming",
   "metadata": {},
   "source": [
    "#### log av et tall (natural)"
   ]
  },
  {
   "cell_type": "code",
   "execution_count": null,
   "id": "packed-obligation",
   "metadata": {},
   "outputs": [],
   "source": [
    "log(10)"
   ]
  },
  {
   "cell_type": "markdown",
   "id": "preceding-strain",
   "metadata": {},
   "source": [
    "#### exponential tall (e)"
   ]
  },
  {
   "cell_type": "code",
   "execution_count": null,
   "id": "harmful-might",
   "metadata": {},
   "outputs": [],
   "source": [
    "exp(2)"
   ]
  },
  {
   "cell_type": "markdown",
   "id": "dutch-miami",
   "metadata": {},
   "source": [
    "#### en string\n"
   ]
  },
  {
   "cell_type": "code",
   "execution_count": null,
   "id": "australian-territory",
   "metadata": {},
   "outputs": [],
   "source": [
    "\"Hello, world!\""
   ]
  },
  {
   "cell_type": "markdown",
   "id": "ceramic-confusion",
   "metadata": {},
   "source": [
    "#### lim ting sammen til en string\n"
   ]
  },
  {
   "cell_type": "code",
   "execution_count": null,
   "id": "endangered-thunder",
   "metadata": {},
   "outputs": [],
   "source": [
    "paste(\"Hello\", \"Susie\")\n",
    "paste(\"Hello\", \"Susie\", sep = \", \")\n",
    "paste(\"Susie er\", 39, \"år gammel\")"
   ]
  },
  {
   "cell_type": "markdown",
   "id": "registered-cream",
   "metadata": {},
   "source": [
    "#### Plukk ut noen character i en string"
   ]
  },
  {
   "cell_type": "code",
   "execution_count": null,
   "id": "changed-amsterdam",
   "metadata": {},
   "outputs": [],
   "source": [
    "substr(\"Susie liker kake\", 1, 2)\n",
    "substr(\"Susie liker kake\", 13, 16)"
   ]
  },
  {
   "cell_type": "markdown",
   "id": "velvet-experiment",
   "metadata": {},
   "source": [
    "### Objekter"
   ]
  },
  {
   "cell_type": "code",
   "execution_count": null,
   "id": "universal-frederick",
   "metadata": {},
   "outputs": [],
   "source": [
    "grunnlagt <- 1669\n",
    "grunnlagt"
   ]
  },
  {
   "cell_type": "code",
   "execution_count": null,
   "id": "global-silver",
   "metadata": {},
   "outputs": [],
   "source": [
    "sted <- \"Kongsvinger Festning\"\n",
    "sted"
   ]
  },
  {
   "cell_type": "markdown",
   "id": "inappropriate-debut",
   "metadata": {},
   "source": [
    "#### Objekter kan overskrives"
   ]
  },
  {
   "cell_type": "code",
   "execution_count": null,
   "id": "saved-lesson",
   "metadata": {},
   "outputs": [],
   "source": [
    "grunnlagt <- grunnlagt + 1\n",
    "grunnlagt"
   ]
  },
  {
   "cell_type": "markdown",
   "id": "norwegian-microwave",
   "metadata": {},
   "source": [
    "#### Objekttype"
   ]
  },
  {
   "cell_type": "code",
   "execution_count": null,
   "id": "paperback-crown",
   "metadata": {},
   "outputs": [],
   "source": [
    "str(sted)\n",
    "str(grunnlagt)"
   ]
  },
  {
   "cell_type": "markdown",
   "id": "constant-maine",
   "metadata": {},
   "source": [
    "## Vektorer\n",
    "#### Eksempel på en numerisk vector "
   ]
  },
  {
   "cell_type": "code",
   "execution_count": null,
   "id": "documented-indiana",
   "metadata": {},
   "outputs": [],
   "source": [
    "aar <- c(2018, 2019, 2020)\n",
    "aar"
   ]
  },
  {
   "cell_type": "markdown",
   "id": "fatty-suffering",
   "metadata": {},
   "source": [
    "#### Eksempel på en kategoriske vektor"
   ]
  },
  {
   "cell_type": "code",
   "execution_count": null,
   "id": "coral-lawrence",
   "metadata": {},
   "outputs": [],
   "source": [
    "flere_sted <- c(\"Oslo\",\"Kongsvinger\", \"Rogaland\")\n",
    "flere_sted"
   ]
  },
  {
   "cell_type": "markdown",
   "id": "direct-season",
   "metadata": {},
   "source": [
    "#### Hvor mange er i vektoren"
   ]
  },
  {
   "cell_type": "code",
   "execution_count": null,
   "id": "published-stylus",
   "metadata": {},
   "outputs": [],
   "source": [
    "length(flere_sted)"
   ]
  },
  {
   "cell_type": "markdown",
   "id": "dated-committee",
   "metadata": {},
   "source": [
    "## Logiske setninger"
   ]
  },
  {
   "cell_type": "code",
   "execution_count": null,
   "id": "variable-walnut",
   "metadata": {},
   "outputs": [],
   "source": [
    "grunnlagt == 1668\n",
    "grunnlagt == 1669\n",
    "aar == 2018"
   ]
  },
  {
   "cell_type": "markdown",
   "id": "driving-woman",
   "metadata": {},
   "source": [
    "#### Test for motsetninger"
   ]
  },
  {
   "cell_type": "code",
   "execution_count": null,
   "id": "catholic-excuse",
   "metadata": {},
   "outputs": [],
   "source": [
    "2 != 3"
   ]
  },
  {
   "cell_type": "markdown",
   "id": "mature-configuration",
   "metadata": {},
   "source": [
    "### Test for innhold"
   ]
  },
  {
   "cell_type": "code",
   "execution_count": null,
   "id": "clinical-technician",
   "metadata": {},
   "outputs": [],
   "source": [
    "2018 %in% aar\n",
    "2015 %in% aar\n",
    "\n",
    "ifelse(sted == \"Oslo\", \"0301\", \"3401\")"
   ]
  },
  {
   "cell_type": "markdown",
   "id": "defined-adolescent",
   "metadata": {},
   "source": [
    "# DEL 2: Data\n",
    "## Lage data (lagret i minne)\n",
    "Vi kan lage et vanlig datasett ved funksjonen `data.frame()`. Funkjsonen kombinerer flere vektorer av samme lengde til et objekt. Funkjsonen `head()` vises de første 6 linjer. Hvis det er vektorer lagre i minne fra før kan disse kombineres til et datasett eller kan vektorenen spesifiseres. "
   ]
  },
  {
   "cell_type": "code",
   "execution_count": null,
   "id": "experienced-southeast",
   "metadata": {},
   "outputs": [],
   "source": [
    "fylkedata <- data.frame(fylke = c(\"Viken\",  \"Innlandet\"), innbyggere = c(1241000, 371000))\n",
    "head(fylkedata)"
   ]
  },
  {
   "cell_type": "markdown",
   "id": "welsh-italian",
   "metadata": {},
   "source": [
    "For en oppsummering av datasettet kan vi bruke funkjsonen `summary()`."
   ]
  },
  {
   "cell_type": "code",
   "execution_count": null,
   "id": "roman-rates",
   "metadata": {},
   "outputs": [],
   "source": [
    "summary(fylkedata)"
   ]
  },
  {
   "cell_type": "markdown",
   "id": "aquatic-corpus",
   "metadata": {},
   "source": [
    "## Les inn data fra datalageret (Dapla)"
   ]
  },
  {
   "cell_type": "markdown",
   "id": "developmental-thermal",
   "metadata": {},
   "source": [
    "For å lese inn data fra datalageret må funksjonen <code>spark.read.path</code> benyttes. Den ivaretar informasjonssikkerheten knyttet til hvem som har tilgang til å se hvilke data. \n",
    "\n",
    "Funksjonen er automatisk tilgjengelig i __SparkR__ kernel.\n",
    "\n",
    "#### Finne datasett\n",
    "<code>spark.read.path</code> krever en sti (eng: path) til hvor dataene ligger. For å finne denne stien, så kan vi bruke <code>spark.read.path</code> til å lete:"
   ]
  },
  {
   "cell_type": "code",
   "execution_count": null,
   "id": "assumed-nursery",
   "metadata": {},
   "outputs": [],
   "source": [
    "df_datasett <- spark.read.path('/felles/*')\n",
    "head(df_datasett)"
   ]
  },
  {
   "cell_type": "markdown",
   "id": "bizarre-perth",
   "metadata": {},
   "source": [
    "#### Lese inn datasettet 'bnp_og_innbyggerantall'"
   ]
  },
  {
   "cell_type": "code",
   "execution_count": null,
   "id": "viral-oxygen",
   "metadata": {},
   "outputs": [],
   "source": [
    "bnp <- spark.read.path('/felles/veiledning/pyspark/eksempler/bnp_og_innbyggerantall')\n",
    "head(bnp)"
   ]
  },
  {
   "cell_type": "markdown",
   "id": "perfect-musical",
   "metadata": {},
   "source": [
    "## Skrive data til datalagre (dapla)\n",
    "Før du lagre data fra prod. sone til dapla bør du lese å gå gjennom SSBs prosedyre for dette.  \n",
    "[SSBs prosedyre for overføring til Dapla](https://statistics-norway.atlassian.net/wiki/spaces/MS/pages/1648853195/Prosedyre+for+overf+re+data+til+Dapla+fra+prodsonen)\n",
    "\n",
    "Noen ganger kan du har behov for å lagre datasett direkte fra en notebook. For å lagre data til datalagre må vi først lagre datasett på et format som passer til datalagringssytemet. Fra R må data være en SparkDataFrame. Vi gjøre dette endringen ved funksjonen `as.DataFrame()`. \n",
    "\n",
    "Her er et eksempel av endring i format av datasett fylkedata som vi laget tidligere."
   ]
  },
  {
   "cell_type": "code",
   "execution_count": null,
   "id": "million-judge",
   "metadata": {},
   "outputs": [],
   "source": [
    "spark_df <- as.DataFrame(fylkedata)\n",
    "str(spark_df)"
   ]
  },
  {
   "cell_type": "markdown",
   "id": "agreed-improvement",
   "metadata": {},
   "source": [
    "Og deretter kan vi lagre til skyen ved bruk av funksjonen `spark.write.path()`. Vi spesifisere data som skal lagres og hvor, med navn. \n",
    "\n",
    "Parameter **valuation** spesifisere beskyttelsesbehov. Det kan ta verdiene:\n",
    "- \"Sensitive\" = Data som er sensitiv\n",
    "- \"Shielded\" = Skjermet\n",
    "- \"Internal\" = Data for intern bruk\n",
    "- \"Open\" = Data som er åpen \n",
    "\n",
    "Parameter **state** sier noen om hvor i produksjonsprosess data er og kvalitet på det. \n",
    "- \"rawdata\" = rådata\n",
    "- \"Input\" = inndata\n",
    "- \"Processed\" = data som er klargjort\n",
    "- \"Output\" = utdata"
   ]
  },
  {
   "cell_type": "code",
   "execution_count": null,
   "id": "fresh-irish",
   "metadata": {},
   "outputs": [],
   "source": [
    "spark.write.path(spark_df, \"/felles/veiledning/r/eksempler/fylke\", valuation = \"INTERNAL\", state = \"INPUT\")"
   ]
  },
  {
   "cell_type": "markdown",
   "id": "offensive-rehabilitation",
   "metadata": {},
   "source": [
    "## Les inn data fra Statbank\n",
    "Data kan leses inn fra Statbank direkte. For dette bruker vi funkjsonen `ApiData()` i tilleggspakke **PxWebApiData**. For å hente data trenger du å vite tabell nummer. Funksjonen returneres en liste hvor det andre elementet er datasettet. Dette kan vises ved å spesifisere`[[2]]`. For mer info se på e-læringskurs her: <https://ssbviz.shinyapps.io/ApiData/>\n",
    "\n",
    "Følgende eksempel viser innlesing av data fra https://www.ssb.no/statbank/table/03013/"
   ]
  },
  {
   "cell_type": "code",
   "execution_count": null,
   "id": "southern-michigan",
   "metadata": {},
   "outputs": [],
   "source": [
    "library(PxWebApiData)\n",
    "kpi <- ApiData(03013)[[2]]\n",
    "head(kpi)"
   ]
  },
  {
   "cell_type": "markdown",
   "id": "pharmaceutical-escape",
   "metadata": {},
   "source": [
    "## Datasett type\n",
    "Datasett kan være av forskjellige type i R. For å finne ut hva slags type datasett det er bruker vi `str()`. Det mest standard er 'data.frame'. Når vi lese inn fra Dapla Sky-lagring er data type 'SparkDataFrame'. Ved bruk av tidyverse innlesning (for eksempel `read_csv()`) er data type 'tibble'. Vi kan endre datasett type til en vanlig R data frame ved bruk av `as.data.frame()`. "
   ]
  },
  {
   "cell_type": "code",
   "execution_count": null,
   "id": "charming-tampa",
   "metadata": {},
   "outputs": [],
   "source": [
    "str(bnp)"
   ]
  },
  {
   "cell_type": "code",
   "execution_count": null,
   "id": "meaningful-bicycle",
   "metadata": {},
   "outputs": [],
   "source": [
    "bnp <- as.data.frame(bnp)\n",
    "str(bnp)"
   ]
  },
  {
   "cell_type": "code",
   "execution_count": null,
   "id": "absolute-shuttle",
   "metadata": {},
   "outputs": [],
   "source": []
  }
 ],
 "metadata": {
  "kernelspec": {
   "display_name": "SparkR (local)",
   "language": "R",
   "name": "ir"
  },
  "language_info": {
   "codemirror_mode": "r",
   "file_extension": ".r",
   "mimetype": "text/x-r-source",
   "name": "R",
   "pygments_lexer": "r",
   "version": "4.0.3"
  }
 },
 "nbformat": 4,
 "nbformat_minor": 5
}
